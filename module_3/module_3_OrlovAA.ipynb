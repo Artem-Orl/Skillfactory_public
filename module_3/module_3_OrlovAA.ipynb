{
 "cells": [
  {
   "cell_type": "markdown",
   "metadata": {
    "id": "_HpMBL0GUHpk"
   },
   "source": [
    "# Загрузка Pandas и очистка данных"
   ]
  },
  {
   "cell_type": "code",
   "execution_count": 1,
   "metadata": {
    "colab": {
     "base_uri": "https://localhost:8080/",
     "height": 52
    },
    "id": "rN4Y9xyjUHpl",
    "outputId": "ee79b619-34c4-47ac-b42c-a72d9a02c804"
   },
   "outputs": [],
   "source": [
    "# Импортируем все нужные библиотеки для очистки и обработки\n",
    "from statsmodels.stats import weightstats\n",
    "from scipy.stats import ttest_ind\n",
    "from itertools import combinations\n",
    "from sklearn.preprocessing import StandardScaler\n",
    "from sklearn.preprocessing import MinMaxScaler\n",
    "import pandas as pd\n",
    "import numpy as np\n",
    "import seaborn as sns\n",
    "import matplotlib.pyplot as plt\n",
    "%matplotlib inline\n",
    "pd.set_option('display.max_rows', 100)  # показывать больше строк\n",
    "pd.set_option('display.max_columns', 100)  # показывать больше колонок"
   ]
  },
  {
   "cell_type": "code",
   "execution_count": 2,
   "metadata": {
    "colab": {
     "base_uri": "https://localhost:8080/",
     "height": 710
    },
    "id": "KjcgRAZrUHpo",
    "outputId": "c81cc187-103b-4b63-a5c0-abfb98ef8c40",
    "scrolled": false
   },
   "outputs": [
    {
     "data": {
      "text/html": [
       "<div>\n",
       "<style scoped>\n",
       "    .dataframe tbody tr th:only-of-type {\n",
       "        vertical-align: middle;\n",
       "    }\n",
       "\n",
       "    .dataframe tbody tr th {\n",
       "        vertical-align: top;\n",
       "    }\n",
       "\n",
       "    .dataframe thead th {\n",
       "        text-align: right;\n",
       "    }\n",
       "</style>\n",
       "<table border=\"1\" class=\"dataframe\">\n",
       "  <thead>\n",
       "    <tr style=\"text-align: right;\">\n",
       "      <th></th>\n",
       "      <th>Restaurant_id</th>\n",
       "      <th>City</th>\n",
       "      <th>Cuisine Style</th>\n",
       "      <th>Ranking</th>\n",
       "      <th>Rating</th>\n",
       "      <th>Price Range</th>\n",
       "      <th>Number of Reviews</th>\n",
       "      <th>Reviews</th>\n",
       "      <th>URL_TA</th>\n",
       "      <th>ID_TA</th>\n",
       "    </tr>\n",
       "  </thead>\n",
       "  <tbody>\n",
       "    <tr>\n",
       "      <th>0</th>\n",
       "      <td>id_5569</td>\n",
       "      <td>Paris</td>\n",
       "      <td>['European', 'French', 'International']</td>\n",
       "      <td>5570.0</td>\n",
       "      <td>3.5</td>\n",
       "      <td>$$ - $$$</td>\n",
       "      <td>194.0</td>\n",
       "      <td>[['Good food at your doorstep', 'A good hotel ...</td>\n",
       "      <td>/Restaurant_Review-g187147-d1912643-Reviews-R_...</td>\n",
       "      <td>d1912643</td>\n",
       "    </tr>\n",
       "    <tr>\n",
       "      <th>1</th>\n",
       "      <td>id_1535</td>\n",
       "      <td>Stockholm</td>\n",
       "      <td>NaN</td>\n",
       "      <td>1537.0</td>\n",
       "      <td>4.0</td>\n",
       "      <td>NaN</td>\n",
       "      <td>10.0</td>\n",
       "      <td>[['Unique cuisine', 'Delicious Nepalese food']...</td>\n",
       "      <td>/Restaurant_Review-g189852-d7992032-Reviews-Bu...</td>\n",
       "      <td>d7992032</td>\n",
       "    </tr>\n",
       "    <tr>\n",
       "      <th>2</th>\n",
       "      <td>id_352</td>\n",
       "      <td>London</td>\n",
       "      <td>['Japanese', 'Sushi', 'Asian', 'Grill', 'Veget...</td>\n",
       "      <td>353.0</td>\n",
       "      <td>4.5</td>\n",
       "      <td>$$$$</td>\n",
       "      <td>688.0</td>\n",
       "      <td>[['Catch up with friends', 'Not exceptional'],...</td>\n",
       "      <td>/Restaurant_Review-g186338-d8632781-Reviews-RO...</td>\n",
       "      <td>d8632781</td>\n",
       "    </tr>\n",
       "    <tr>\n",
       "      <th>3</th>\n",
       "      <td>id_3456</td>\n",
       "      <td>Berlin</td>\n",
       "      <td>NaN</td>\n",
       "      <td>3458.0</td>\n",
       "      <td>5.0</td>\n",
       "      <td>NaN</td>\n",
       "      <td>3.0</td>\n",
       "      <td>[[], []]</td>\n",
       "      <td>/Restaurant_Review-g187323-d1358776-Reviews-Es...</td>\n",
       "      <td>d1358776</td>\n",
       "    </tr>\n",
       "    <tr>\n",
       "      <th>4</th>\n",
       "      <td>id_615</td>\n",
       "      <td>Munich</td>\n",
       "      <td>['German', 'Central European', 'Vegetarian Fri...</td>\n",
       "      <td>621.0</td>\n",
       "      <td>4.0</td>\n",
       "      <td>$$ - $$$</td>\n",
       "      <td>84.0</td>\n",
       "      <td>[['Best place to try a Bavarian food', 'Nice b...</td>\n",
       "      <td>/Restaurant_Review-g187309-d6864963-Reviews-Au...</td>\n",
       "      <td>d6864963</td>\n",
       "    </tr>\n",
       "    <tr>\n",
       "      <th>...</th>\n",
       "      <td>...</td>\n",
       "      <td>...</td>\n",
       "      <td>...</td>\n",
       "      <td>...</td>\n",
       "      <td>...</td>\n",
       "      <td>...</td>\n",
       "      <td>...</td>\n",
       "      <td>...</td>\n",
       "      <td>...</td>\n",
       "      <td>...</td>\n",
       "    </tr>\n",
       "    <tr>\n",
       "      <th>39995</th>\n",
       "      <td>id_499</td>\n",
       "      <td>Milan</td>\n",
       "      <td>['Italian', 'Vegetarian Friendly', 'Vegan Opti...</td>\n",
       "      <td>500.0</td>\n",
       "      <td>4.5</td>\n",
       "      <td>$$ - $$$</td>\n",
       "      <td>79.0</td>\n",
       "      <td>[['The real Italian experience!', 'Wonderful f...</td>\n",
       "      <td>/Restaurant_Review-g187849-d2104414-Reviews-Ro...</td>\n",
       "      <td>d2104414</td>\n",
       "    </tr>\n",
       "    <tr>\n",
       "      <th>39996</th>\n",
       "      <td>id_6340</td>\n",
       "      <td>Paris</td>\n",
       "      <td>['French', 'American', 'Bar', 'European', 'Veg...</td>\n",
       "      <td>6341.0</td>\n",
       "      <td>3.5</td>\n",
       "      <td>$$ - $$$</td>\n",
       "      <td>542.0</td>\n",
       "      <td>[['Parisian atmosphere', 'Bit pricey but inter...</td>\n",
       "      <td>/Restaurant_Review-g187147-d1800036-Reviews-La...</td>\n",
       "      <td>d1800036</td>\n",
       "    </tr>\n",
       "    <tr>\n",
       "      <th>39997</th>\n",
       "      <td>id_1649</td>\n",
       "      <td>Stockholm</td>\n",
       "      <td>['Japanese', 'Sushi']</td>\n",
       "      <td>1652.0</td>\n",
       "      <td>4.5</td>\n",
       "      <td>NaN</td>\n",
       "      <td>4.0</td>\n",
       "      <td>[['Good by swedish standards', 'A hidden jewel...</td>\n",
       "      <td>/Restaurant_Review-g189852-d947615-Reviews-Sus...</td>\n",
       "      <td>d947615</td>\n",
       "    </tr>\n",
       "    <tr>\n",
       "      <th>39998</th>\n",
       "      <td>id_640</td>\n",
       "      <td>Warsaw</td>\n",
       "      <td>['Polish', 'European', 'Eastern European', 'Ce...</td>\n",
       "      <td>641.0</td>\n",
       "      <td>4.0</td>\n",
       "      <td>$$ - $$$</td>\n",
       "      <td>70.0</td>\n",
       "      <td>[['Underground restaurant', 'Oldest Restaurant...</td>\n",
       "      <td>/Restaurant_Review-g274856-d1100838-Reviews-Ho...</td>\n",
       "      <td>d1100838</td>\n",
       "    </tr>\n",
       "    <tr>\n",
       "      <th>39999</th>\n",
       "      <td>id_4824</td>\n",
       "      <td>Milan</td>\n",
       "      <td>['Spanish']</td>\n",
       "      <td>4827.0</td>\n",
       "      <td>3.0</td>\n",
       "      <td>$$ - $$$</td>\n",
       "      <td>260.0</td>\n",
       "      <td>[['Average', 'Nice an informal'], ['01/31/2016...</td>\n",
       "      <td>/Restaurant_Review-g187849-d1109020-Reviews-Ta...</td>\n",
       "      <td>d1109020</td>\n",
       "    </tr>\n",
       "  </tbody>\n",
       "</table>\n",
       "<p>40000 rows × 10 columns</p>\n",
       "</div>"
      ],
      "text/plain": [
       "      Restaurant_id       City  \\\n",
       "0           id_5569      Paris   \n",
       "1           id_1535  Stockholm   \n",
       "2            id_352     London   \n",
       "3           id_3456     Berlin   \n",
       "4            id_615     Munich   \n",
       "...             ...        ...   \n",
       "39995        id_499      Milan   \n",
       "39996       id_6340      Paris   \n",
       "39997       id_1649  Stockholm   \n",
       "39998        id_640     Warsaw   \n",
       "39999       id_4824      Milan   \n",
       "\n",
       "                                           Cuisine Style  Ranking  Rating  \\\n",
       "0                ['European', 'French', 'International']   5570.0     3.5   \n",
       "1                                                    NaN   1537.0     4.0   \n",
       "2      ['Japanese', 'Sushi', 'Asian', 'Grill', 'Veget...    353.0     4.5   \n",
       "3                                                    NaN   3458.0     5.0   \n",
       "4      ['German', 'Central European', 'Vegetarian Fri...    621.0     4.0   \n",
       "...                                                  ...      ...     ...   \n",
       "39995  ['Italian', 'Vegetarian Friendly', 'Vegan Opti...    500.0     4.5   \n",
       "39996  ['French', 'American', 'Bar', 'European', 'Veg...   6341.0     3.5   \n",
       "39997                              ['Japanese', 'Sushi']   1652.0     4.5   \n",
       "39998  ['Polish', 'European', 'Eastern European', 'Ce...    641.0     4.0   \n",
       "39999                                        ['Spanish']   4827.0     3.0   \n",
       "\n",
       "      Price Range  Number of Reviews  \\\n",
       "0        $$ - $$$              194.0   \n",
       "1             NaN               10.0   \n",
       "2            $$$$              688.0   \n",
       "3             NaN                3.0   \n",
       "4        $$ - $$$               84.0   \n",
       "...           ...                ...   \n",
       "39995    $$ - $$$               79.0   \n",
       "39996    $$ - $$$              542.0   \n",
       "39997         NaN                4.0   \n",
       "39998    $$ - $$$               70.0   \n",
       "39999    $$ - $$$              260.0   \n",
       "\n",
       "                                                 Reviews  \\\n",
       "0      [['Good food at your doorstep', 'A good hotel ...   \n",
       "1      [['Unique cuisine', 'Delicious Nepalese food']...   \n",
       "2      [['Catch up with friends', 'Not exceptional'],...   \n",
       "3                                               [[], []]   \n",
       "4      [['Best place to try a Bavarian food', 'Nice b...   \n",
       "...                                                  ...   \n",
       "39995  [['The real Italian experience!', 'Wonderful f...   \n",
       "39996  [['Parisian atmosphere', 'Bit pricey but inter...   \n",
       "39997  [['Good by swedish standards', 'A hidden jewel...   \n",
       "39998  [['Underground restaurant', 'Oldest Restaurant...   \n",
       "39999  [['Average', 'Nice an informal'], ['01/31/2016...   \n",
       "\n",
       "                                                  URL_TA     ID_TA  \n",
       "0      /Restaurant_Review-g187147-d1912643-Reviews-R_...  d1912643  \n",
       "1      /Restaurant_Review-g189852-d7992032-Reviews-Bu...  d7992032  \n",
       "2      /Restaurant_Review-g186338-d8632781-Reviews-RO...  d8632781  \n",
       "3      /Restaurant_Review-g187323-d1358776-Reviews-Es...  d1358776  \n",
       "4      /Restaurant_Review-g187309-d6864963-Reviews-Au...  d6864963  \n",
       "...                                                  ...       ...  \n",
       "39995  /Restaurant_Review-g187849-d2104414-Reviews-Ro...  d2104414  \n",
       "39996  /Restaurant_Review-g187147-d1800036-Reviews-La...  d1800036  \n",
       "39997  /Restaurant_Review-g189852-d947615-Reviews-Sus...   d947615  \n",
       "39998  /Restaurant_Review-g274856-d1100838-Reviews-Ho...  d1100838  \n",
       "39999  /Restaurant_Review-g187849-d1109020-Reviews-Ta...  d1109020  \n",
       "\n",
       "[40000 rows x 10 columns]"
      ]
     },
     "metadata": {},
     "output_type": "display_data"
    },
    {
     "name": "stdout",
     "output_type": "stream",
     "text": [
      "<class 'pandas.core.frame.DataFrame'>\n",
      "RangeIndex: 40000 entries, 0 to 39999\n",
      "Data columns (total 10 columns):\n",
      " #   Column             Non-Null Count  Dtype  \n",
      "---  ------             --------------  -----  \n",
      " 0   Restaurant_id      40000 non-null  object \n",
      " 1   City               40000 non-null  object \n",
      " 2   Cuisine Style      30717 non-null  object \n",
      " 3   Ranking            40000 non-null  float64\n",
      " 4   Rating             40000 non-null  float64\n",
      " 5   Price Range        26114 non-null  object \n",
      " 6   Number of Reviews  37457 non-null  float64\n",
      " 7   Reviews            40000 non-null  object \n",
      " 8   URL_TA             40000 non-null  object \n",
      " 9   ID_TA              40000 non-null  object \n",
      "dtypes: float64(3), object(7)\n",
      "memory usage: 3.1+ MB\n"
     ]
    }
   ],
   "source": [
    "df = pd.read_csv('main_task.csv')\n",
    "display(df)\n",
    "df.info()"
   ]
  },
  {
   "cell_type": "markdown",
   "metadata": {
    "id": "0PB8fuH3UHps"
   },
   "source": [
    "# 1. Первичный анализ данных в столбцах\n",
    "\n",
    "Начнем с наиболее очевидных Качественных признаков, судя по info() это: Restaurant_id, City, Cuisine Style, Price Range, Reviews, URL_TA, ID_TA"
   ]
  },
  {
   "cell_type": "code",
   "execution_count": 3,
   "metadata": {
    "id": "GiaR_8jrUHpt",
    "scrolled": true
   },
   "outputs": [],
   "source": [
    "# сразу напишем функцию, чтобы выводила всю нужную инфо\n",
    "def first_look(column):\n",
    "    print('')  # чтобы был отступ\n",
    "    print('Столбец', column)\n",
    "    display(df[column].value_counts())\n",
    "    print('Количество пропусков: {}'.format(df[column].isnull().sum()), 'Процент пропусков: {}'.format(str(\n",
    "        df[column].isnull().sum()/df.shape[0]*100)+'%'), 'Количество уникальных значений: {}'.format(df[column].nunique()), sep='\\n')"
   ]
  },
  {
   "cell_type": "code",
   "execution_count": 4,
   "metadata": {
    "colab": {
     "base_uri": "https://localhost:8080/",
     "height": 1000
    },
    "id": "IsB-A-wuUHpv",
    "outputId": "97620a56-1321-402d-c8d8-84ec2e64ef0f",
    "scrolled": false
   },
   "outputs": [
    {
     "name": "stdout",
     "output_type": "stream",
     "text": [
      "\n",
      "Столбец Restaurant_id\n"
     ]
    },
    {
     "data": {
      "text/plain": [
       "id_633      18\n",
       "id_871      18\n",
       "id_227      18\n",
       "id_436      18\n",
       "id_585      17\n",
       "            ..\n",
       "id_14129     1\n",
       "id_9018      1\n",
       "id_5491      1\n",
       "id_9715      1\n",
       "id_8851      1\n",
       "Name: Restaurant_id, Length: 11909, dtype: int64"
      ]
     },
     "metadata": {},
     "output_type": "display_data"
    },
    {
     "name": "stdout",
     "output_type": "stream",
     "text": [
      "Количество пропусков: 0\n",
      "Процент пропусков: 0.0%\n",
      "Количество уникальных значений: 11909\n",
      "\n",
      "Столбец Price Range\n"
     ]
    },
    {
     "data": {
      "text/plain": [
       "$$ - $$$    18412\n",
       "$            6279\n",
       "$$$$         1423\n",
       "Name: Price Range, dtype: int64"
      ]
     },
     "metadata": {},
     "output_type": "display_data"
    },
    {
     "name": "stdout",
     "output_type": "stream",
     "text": [
      "Количество пропусков: 13886\n",
      "Процент пропусков: 34.715%\n",
      "Количество уникальных значений: 3\n",
      "\n",
      "Столбец City\n"
     ]
    },
    {
     "data": {
      "text/plain": [
       "London        5757\n",
       "Paris         4897\n",
       "Madrid        3108\n",
       "Barcelona     2734\n",
       "Berlin        2155\n",
       "Milan         2133\n",
       "Rome          2078\n",
       "Prague        1443\n",
       "Lisbon        1300\n",
       "Vienna        1166\n",
       "Amsterdam     1086\n",
       "Brussels      1060\n",
       "Hamburg        949\n",
       "Munich         893\n",
       "Lyon           892\n",
       "Stockholm      820\n",
       "Budapest       816\n",
       "Warsaw         727\n",
       "Dublin         673\n",
       "Copenhagen     659\n",
       "Athens         628\n",
       "Edinburgh      596\n",
       "Zurich         538\n",
       "Oporto         513\n",
       "Geneva         481\n",
       "Krakow         443\n",
       "Oslo           385\n",
       "Helsinki       376\n",
       "Bratislava     301\n",
       "Luxembourg     210\n",
       "Ljubljana      183\n",
       "Name: City, dtype: int64"
      ]
     },
     "metadata": {},
     "output_type": "display_data"
    },
    {
     "name": "stdout",
     "output_type": "stream",
     "text": [
      "Количество пропусков: 0\n",
      "Процент пропусков: 0.0%\n",
      "Количество уникальных значений: 31\n"
     ]
    },
    {
     "data": {
      "text/plain": [
       "<matplotlib.axes._subplots.AxesSubplot at 0x23567992e88>"
      ]
     },
     "execution_count": 4,
     "metadata": {},
     "output_type": "execute_result"
    },
    {
     "data": {
      "image/png": "[encoded data removed]",
      "text/plain": [
       "<Figure size 432x288 with 1 Axes>"
      ]
     },
     "metadata": {
      "needs_background": "light"
     },
     "output_type": "display_data"
    }
   ],
   "source": [
    "first_look('Restaurant_id')\n",
    "first_look('Price Range')\n",
    "first_look('City')\n",
    "df['City'].value_counts(ascending=True).plot(kind='barh', title='City')"
   ]
  },
  {
   "cell_type": "markdown",
   "metadata": {
    "id": "7nElINlhUHpx"
   },
   "source": [
    "- Столбец Restaurant_id не содержит пропусков, уникальных значений 11909, т.е. меньше чем всего значений по дф, значит некоторые рестораны встречаются более одного раза. Возможно это поможет.\n",
    "- Столбец City также не содержит пропусков. Всего 31 город, Большинство ресторанов в Лондоне и Париже.\n",
    "\n",
    "\n",
    "- В столбце Price Range 34.715% пропусков, что много. Это очевидно ординальный признак (всего 3 значения). Сразу произведем ЗАМЕНУ, чтобы модель смогла с ним работать и посмотрим, что на графике."
   ]
  },
  {
   "cell_type": "code",
   "execution_count": 5,
   "metadata": {
    "colab": {
     "base_uri": "https://localhost:8080/",
     "height": 304
    },
    "id": "sS0TQrqxUHpy",
    "outputId": "9422bbf3-a57f-438d-9162-e6eddd19ef1e",
    "scrolled": true
   },
   "outputs": [
    {
     "data": {
      "text/plain": [
       "<matplotlib.axes._subplots.AxesSubplot at 0x2356875f448>"
      ]
     },
     "execution_count": 5,
     "metadata": {},
     "output_type": "execute_result"
    },
    {
     "data": {
      "image/png": "[encoded data removed]",
      "text/plain": [
       "<Figure size 432x288 with 1 Axes>"
      ]
     },
     "metadata": {
      "needs_background": "light"
     },
     "output_type": "display_data"
    }
   ],
   "source": [
    "# меняем значения в Price Range\n",
    "# создаем словарь и, используя функцию, меняем значения, $ будет 0\n",
    "range_values = {'$': 1, '$$ - $$$': 2, '$$$$': 3}\n",
    "df['Price Range'] = df['Price Range'].replace(to_replace=range_values)\n",
    "\n",
    "# Сразу построим график\n",
    "df['Price Range'].value_counts().plot(kind='bar', title='Price Range')"
   ]
  },
  {
   "cell_type": "markdown",
   "metadata": {
    "id": "ED0N3M2jUHp1"
   },
   "source": [
    "исходя из графика Price Range большая часть ресторанов из среднего ценового сегмента, явно более 50%. Это может быть полезным при работе с пропусками"
   ]
  },
  {
   "cell_type": "code",
   "execution_count": 6,
   "metadata": {
    "colab": {
     "base_uri": "https://localhost:8080/",
     "height": 901
    },
    "id": "zmCUFqJVUHp1",
    "outputId": "4fc179f4-d34a-471c-fddd-a0509a3f8bc5",
    "scrolled": false
   },
   "outputs": [
    {
     "name": "stdout",
     "output_type": "stream",
     "text": [
      "\n",
      "Столбец Reviews\n"
     ]
    },
    {
     "data": {
      "text/plain": [
       "[[], []]                                                                                                                              6471\n",
       "[['Healthy vegan doughnuts are posible', 'Best Vegan Donut in the world !!!'], ['11/17/2017', '11/16/2017']]                             2\n",
       "[['The real codido madrileño'], ['03/31/2017']]                                                                                          2\n",
       "[['Great Food! Wide Variety.', 'Dinner'], ['11/26/2017', '05/23/2017']]                                                                  2\n",
       "[['Sat night', 'Can\\'t even explain.. \"A\" place.. A \"100...'], ['10/22/2017', '05/11/2017']]                                             2\n",
       "                                                                                                                                      ... \n",
       "[['Superb!', 'A Hidden Gem'], ['01/03/2018', '01/08/2013']]                                                                              1\n",
       "[['excellent food from small family managed r...', 'Delicious home cuisine and an authentic It...'], ['05/17/2017', '02/04/2017']]       1\n",
       "[['Nice place in a cute environment, accompan...', 'When pasta is greater than the servie'], ['11/14/2017', '03/30/2017']]               1\n",
       "[['Genuine Mauritian cuisine', 'Great food with a friendly atmosphere.'], ['10/01/2017', '08/02/2017']]                                  1\n",
       "[['Order at your own risk ...', 'Terrible delivery experience, strongly NOT...'], ['11/19/2016', '08/28/2016']]                          1\n",
       "Name: Reviews, Length: 33516, dtype: int64"
      ]
     },
     "metadata": {},
     "output_type": "display_data"
    },
    {
     "name": "stdout",
     "output_type": "stream",
     "text": [
      "Количество пропусков: 0\n",
      "Процент пропусков: 0.0%\n",
      "Количество уникальных значений: 33516\n",
      "\n",
      "Столбец URL_TA\n"
     ]
    },
    {
     "data": {
      "text/plain": [
       "/Restaurant_Review-g187514-d9877640-Reviews-Raku_Sushi-Madrid.html                           2\n",
       "/Restaurant_Review-g187514-d13002276-Reviews-Delish_Vegan_Doughnuts-Madrid.html              2\n",
       "/Restaurant_Review-g187514-d8753348-Reviews-Tropecientos-Madrid.html                         2\n",
       "/Restaurant_Review-g187514-d11921719-Reviews-Crepets-Madrid.html                             2\n",
       "/Restaurant_Review-g187514-d10047799-Reviews-Entrepuntos-Madrid.html                         2\n",
       "                                                                                            ..\n",
       "/Restaurant_Review-g274707-d11910759-Reviews-Kraftwerk_Bar-Prague_Bohemia.html               1\n",
       "/Restaurant_Review-g190479-d12682337-Reviews-Bislett_Kebab_House-Oslo_Eastern_Norway.html    1\n",
       "/Restaurant_Review-g188113-d12448243-Reviews-Chez_Hugo-Zurich.html                           1\n",
       "/Restaurant_Review-g187323-d3192723-Reviews-Bistro_Olivenbaum-Berlin.html                    1\n",
       "/Restaurant_Review-g187323-d8024511-Reviews-Il_Brunello-Berlin.html                          1\n",
       "Name: URL_TA, Length: 39980, dtype: int64"
      ]
     },
     "metadata": {},
     "output_type": "display_data"
    },
    {
     "name": "stdout",
     "output_type": "stream",
     "text": [
      "Количество пропусков: 0\n",
      "Процент пропусков: 0.0%\n",
      "Количество уникальных значений: 39980\n",
      "\n",
      "Столбец ID_TA\n"
     ]
    },
    {
     "data": {
      "text/plain": [
       "d3161682     2\n",
       "d793170      2\n",
       "d987900      2\n",
       "d7809594     2\n",
       "d11921719    2\n",
       "            ..\n",
       "d11777282    1\n",
       "d7248018     1\n",
       "d2316450     1\n",
       "d9803833     1\n",
       "d4170182     1\n",
       "Name: ID_TA, Length: 39980, dtype: int64"
      ]
     },
     "metadata": {},
     "output_type": "display_data"
    },
    {
     "name": "stdout",
     "output_type": "stream",
     "text": [
      "Количество пропусков: 0\n",
      "Процент пропусков: 0.0%\n",
      "Количество уникальных значений: 39980\n"
     ]
    }
   ],
   "source": [
    "first_look('Reviews')\n",
    "first_look('URL_TA')\n",
    "first_look('ID_TA')"
   ]
  },
  {
   "cell_type": "code",
   "execution_count": 7,
   "metadata": {
    "colab": {
     "base_uri": "https://localhost:8080/",
     "height": 202
    },
    "id": "ByfNFJ-XUHp4",
    "outputId": "a321691e-05a0-4d3d-c49b-35d4148a7927"
   },
   "outputs": [
    {
     "data": {
      "text/html": [
       "<div>\n",
       "<style scoped>\n",
       "    .dataframe tbody tr th:only-of-type {\n",
       "        vertical-align: middle;\n",
       "    }\n",
       "\n",
       "    .dataframe tbody tr th {\n",
       "        vertical-align: top;\n",
       "    }\n",
       "\n",
       "    .dataframe thead th {\n",
       "        text-align: right;\n",
       "    }\n",
       "</style>\n",
       "<table border=\"1\" class=\"dataframe\">\n",
       "  <thead>\n",
       "    <tr style=\"text-align: right;\">\n",
       "      <th></th>\n",
       "      <th>URL_TA</th>\n",
       "      <th>ID_TA</th>\n",
       "      <th>Restaurant_id</th>\n",
       "    </tr>\n",
       "  </thead>\n",
       "  <tbody>\n",
       "    <tr>\n",
       "      <th>10775</th>\n",
       "      <td>/Restaurant_Review-g186338-d8444438-Reviews-My...</td>\n",
       "      <td>d8444438</td>\n",
       "      <td>id_15915</td>\n",
       "    </tr>\n",
       "    <tr>\n",
       "      <th>12578</th>\n",
       "      <td>/Restaurant_Review-g187497-d12430372-Reviews-C...</td>\n",
       "      <td>d12430372</td>\n",
       "      <td>id_1915</td>\n",
       "    </tr>\n",
       "    <tr>\n",
       "      <th>6557</th>\n",
       "      <td>/Restaurant_Review-g187147-d10488029-Reviews-L...</td>\n",
       "      <td>d10488029</td>\n",
       "      <td>id_9418</td>\n",
       "    </tr>\n",
       "    <tr>\n",
       "      <th>1960</th>\n",
       "      <td>/Restaurant_Review-g186338-d798707-Reviews-The...</td>\n",
       "      <td>d798707</td>\n",
       "      <td>id_6093</td>\n",
       "    </tr>\n",
       "    <tr>\n",
       "      <th>12885</th>\n",
       "      <td>/Restaurant_Review-g187147-d777376-Reviews-Le_...</td>\n",
       "      <td>d777376</td>\n",
       "      <td>id_1049</td>\n",
       "    </tr>\n",
       "  </tbody>\n",
       "</table>\n",
       "</div>"
      ],
      "text/plain": [
       "                                                  URL_TA      ID_TA  \\\n",
       "10775  /Restaurant_Review-g186338-d8444438-Reviews-My...   d8444438   \n",
       "12578  /Restaurant_Review-g187497-d12430372-Reviews-C...  d12430372   \n",
       "6557   /Restaurant_Review-g187147-d10488029-Reviews-L...  d10488029   \n",
       "1960   /Restaurant_Review-g186338-d798707-Reviews-The...    d798707   \n",
       "12885  /Restaurant_Review-g187147-d777376-Reviews-Le_...    d777376   \n",
       "\n",
       "      Restaurant_id  \n",
       "10775      id_15915  \n",
       "12578       id_1915  \n",
       "6557        id_9418  \n",
       "1960        id_6093  \n",
       "12885       id_1049  "
      ]
     },
     "execution_count": 7,
     "metadata": {},
     "output_type": "execute_result"
    }
   ],
   "source": [
    "# соответствие в URL_TA и ID_TA\n",
    "df[['URL_TA', 'ID_TA', 'Restaurant_id']].sample(5)"
   ]
  },
  {
   "cell_type": "markdown",
   "metadata": {
    "id": "6Kwhs8q0UHp7"
   },
   "source": [
    "- Столбцы URL_TA, ID_TA имеют одинаковое число пропусков (т.е не имеют) и количество уникальных значений. Если взглянуть поближе, то видно, что значение столбца ID_TA (d....) есть в столбце URL_TA. В дальнейшем попробуем его удалить.\n",
    "- Столбец Reviews на первый взгляд не содержит пустых значений, но по факту видно, что в 6471 значениях пустые строки, т.е. отзывов нет. в остальном, количество отзывов = количеству дат. попробуем вычленить из столбца:\n",
    "1. кол-вот отзывов на сайте ресторана, \n",
    "2. даты (пока без преобразований)\n"
   ]
  },
  {
   "cell_type": "code",
   "execution_count": 8,
   "metadata": {
    "colab": {
     "base_uri": "https://localhost:8080/",
     "height": 86
    },
    "id": "9n_1jgTQUHp8",
    "outputId": "d572df84-522b-40d6-b9ff-a93495fa6453"
   },
   "outputs": [
    {
     "data": {
      "text/plain": [
       "2.0    28971\n",
       "1.0     4556\n",
       "3.0        2\n",
       "Name: len_Review_date, dtype: int64"
      ]
     },
     "execution_count": 8,
     "metadata": {},
     "output_type": "execute_result"
    }
   ],
   "source": [
    "# сначала заменим пустые значения [[], []] на Nan\n",
    "df['Reviews'] = df['Reviews'].apply(lambda x: None if x == '[[], []]' else x)\n",
    "\n",
    "# вычленяем даты с помощью регулярных выражений\n",
    "df['Review_date'] = df['Reviews'].str.findall('\\d+/\\d+/\\d+')\n",
    "\n",
    "# Посчитаем количество отзывов исходя из количества дат\n",
    "df['len_Review_date'] = df['Review_date'].apply(\n",
    "    lambda x: len(x) if type(x) == list else x)\n",
    "\n",
    "# сразу же исследуем len_Review_date\n",
    "df['len_Review_date'].value_counts()"
   ]
  },
  {
   "cell_type": "code",
   "execution_count": 9,
   "metadata": {
    "id": "q7feNuVCex1V"
   },
   "outputs": [],
   "source": [
    "# Есть строки с тремя отзывами, посмотрим, что там\n",
    "df[df.len_Review_date == 3]\n",
    "\n",
    "# судя по всему люди добавляли дату в свои отзывы, что и повлекло некорректное создание следующей колонки. Удалим\n",
    "df['len_Review_date'].Review_date = df[df.len_Review_date ==\n",
    "                                       3].Review_date.apply(lambda x: x.pop(0))\n",
    "df['len_Review_date'] = df['Review_date'].apply(\n",
    "    lambda x: len(x) if type(x) == list else x)"
   ]
  },
  {
   "cell_type": "code",
   "execution_count": 10,
   "metadata": {
    "colab": {
     "base_uri": "https://localhost:8080/",
     "height": 442
    },
    "id": "ezpfuZ26ex1X",
    "outputId": "0c4e96ca-5183-4d7f-e94e-d24337b49e77"
   },
   "outputs": [
    {
     "name": "stdout",
     "output_type": "stream",
     "text": [
      "\n",
      "Столбец len_Review_date\n"
     ]
    },
    {
     "data": {
      "text/plain": [
       "2.0    28973\n",
       "1.0     4556\n",
       "Name: len_Review_date, dtype: int64"
      ]
     },
     "metadata": {},
     "output_type": "display_data"
    },
    {
     "name": "stdout",
     "output_type": "stream",
     "text": [
      "Количество пропусков: 6471\n",
      "Процент пропусков: 16.177500000000002%\n",
      "Количество уникальных значений: 2\n"
     ]
    },
    {
     "data": {
      "text/plain": [
       "<matplotlib.axes._subplots.AxesSubplot at 0x23568980c48>"
      ]
     },
     "execution_count": 10,
     "metadata": {},
     "output_type": "execute_result"
    },
    {
     "data": {
      "image/png": "[encoded data removed]",
      "text/plain": [
       "<Figure size 432x288 with 1 Axes>"
      ]
     },
     "metadata": {
      "needs_background": "light"
     },
     "output_type": "display_data"
    }
   ],
   "source": [
    "# теперь посмотрим на созданную колонку\n",
    "first_look('len_Review_date')\n",
    "\n",
    "df['len_Review_date'].value_counts().plot(\n",
    "    kind='bar', title='Количество отзывов')"
   ]
  },
  {
   "cell_type": "code",
   "execution_count": 11,
   "metadata": {
    "id": "KtvBuw5MuUzb"
   },
   "outputs": [],
   "source": [
    "#  всю полезную инфо из Reviews мы забрали, удалим столбец\n",
    "df.drop(['Reviews'], axis=1, inplace=True)"
   ]
  },
  {
   "cell_type": "markdown",
   "metadata": {
    "id": "deQGYhFGGykH"
   },
   "source": [
    "Количество пропусков 6471 или 16 %, как и у колонки Reviews,т.е. мы провели преобразования правильно. В большинстве ресторанов размещено по два отзыва на сайтах.\n",
    "- Столбец же URL_TA содержит нечто похожее на название ресторана. Выделим его, возможно пригодится в дальнейшем"
   ]
  },
  {
   "cell_type": "code",
   "execution_count": 12,
   "metadata": {
    "id": "dyPsYn4XWmHD"
   },
   "outputs": [],
   "source": [
    "# вычленяем названия ресторанов из колонки URL_TA\n",
    "df['URL_TA'] = df['URL_TA'].str.split('-')\n",
    "\n",
    "# lower() нужен, чтобы исключить случаи, когда названия ресторанов написаны по разному\n",
    "df['URL_TA'] = [x[4].lower() for x in df['URL_TA']]"
   ]
  },
  {
   "cell_type": "code",
   "execution_count": 13,
   "metadata": {
    "colab": {
     "base_uri": "https://localhost:8080/",
     "height": 670
    },
    "id": "PLXfvL9UaX0R",
    "outputId": "8830298f-b401-46ed-9545-a24b0effb7df"
   },
   "outputs": [
    {
     "name": "stdout",
     "output_type": "stream",
     "text": [
      "\n",
      "Столбец URL_TA\n"
     ]
    },
    {
     "data": {
      "text/plain": [
       "mcdonald_s              116\n",
       "burger_king              53\n",
       "subway                   51\n",
       "pret_a_manger            48\n",
       "kfc                      41\n",
       "                       ... \n",
       "eskina_brasil             1\n",
       "wahaca_covent_garden      1\n",
       "restaurang_roekeriet      1\n",
       "f_burger                  1\n",
       "ali_kebabish              1\n",
       "Name: URL_TA, Length: 37336, dtype: int64"
      ]
     },
     "metadata": {},
     "output_type": "display_data"
    },
    {
     "name": "stdout",
     "output_type": "stream",
     "text": [
      "Количество пропусков: 0\n",
      "Процент пропусков: 0.0%\n",
      "Количество уникальных значений: 37336\n"
     ]
    },
    {
     "data": {
      "text/plain": [
       "<matplotlib.axes._subplots.AxesSubplot at 0x235687aa308>"
      ]
     },
     "execution_count": 13,
     "metadata": {},
     "output_type": "execute_result"
    },
    {
     "data": {
      "image/png": "[encoded data removed]",
      "text/plain": [
       "<Figure size 432x288 with 1 Axes>"
      ]
     },
     "metadata": {
      "needs_background": "light"
     },
     "output_type": "display_data"
    }
   ],
   "source": [
    "# сразу смотрим, что в ней и строим график\n",
    "first_look('URL_TA')\n",
    "\n",
    "# для 20 самых распространенных ресторанов\n",
    "df['URL_TA'].value_counts().head(20).plot(kind='bar', title='Рестораны')"
   ]
  },
  {
   "cell_type": "markdown",
   "metadata": {
    "id": "ZgsHA5luI8cO"
   },
   "source": [
    "Столбец URL_TA не имеет пропусков, Самый часто встречающийся ресторан это МакДональдс (кто-бы сомневался) и прочие представители фастфудов\n",
    "\n",
    "**Далее рассмотрим колонку Cuisine Style**\n"
   ]
  },
  {
   "cell_type": "code",
   "execution_count": 14,
   "metadata": {
    "colab": {
     "base_uri": "https://localhost:8080/",
     "height": 312
    },
    "id": "7rm7JqxbMmCA",
    "outputId": "8834738c-0c38-4782-caf4-ec441b4d7d66"
   },
   "outputs": [
    {
     "name": "stdout",
     "output_type": "stream",
     "text": [
      "\n",
      "Столбец Cuisine Style\n"
     ]
    },
    {
     "data": {
      "text/plain": [
       "['Italian']                                                                           1032\n",
       "['French']                                                                             805\n",
       "['Spanish']                                                                            695\n",
       "['French', 'European']                                                                 405\n",
       "['Cafe']                                                                               403\n",
       "                                                                                      ... \n",
       "['Fast Food', 'German', 'European', 'Vegetarian Friendly']                               1\n",
       "['Irish', 'Bar', 'European', 'Pub', 'British', 'Vegetarian Friendly']                    1\n",
       "['Italian', 'French', 'Pizza', 'European', 'Vegetarian Friendly', 'Vegan Options']       1\n",
       "['Steakhouse', 'American', 'European', 'Central European', 'Barbecue']                   1\n",
       "['Austrian', 'European', 'Grill', 'Diner', 'Soups']                                      1\n",
       "Name: Cuisine Style, Length: 9007, dtype: int64"
      ]
     },
     "metadata": {},
     "output_type": "display_data"
    },
    {
     "name": "stdout",
     "output_type": "stream",
     "text": [
      "Количество пропусков: 9283\n",
      "Процент пропусков: 23.2075%\n",
      "Количество уникальных значений: 9007\n"
     ]
    }
   ],
   "source": [
    "# смотрим в лоб\n",
    "first_look('Cuisine Style')"
   ]
  },
  {
   "cell_type": "markdown",
   "metadata": {
    "id": "D9CCh7DgPZvl"
   },
   "source": [
    " На самом деле на текущий момент данные не оч информативны, кроме информации о том, что данные содержат 23% пропусков. Преобразуем их, чтобы получить больше информации"
   ]
  },
  {
   "cell_type": "code",
   "execution_count": 15,
   "metadata": {
    "colab": {
     "base_uri": "https://localhost:8080/",
     "height": 734
    },
    "id": "MM0ZM07FUCug",
    "outputId": "eb8c4471-53d9-42af-a898-af387d50e51f"
   },
   "outputs": [
    {
     "data": {
      "text/plain": [
       "Vegetarian Friendly    11189\n",
       "European               10060\n",
       "Mediterranean           6277\n",
       "Italian                 5964\n",
       "Vegan Options           4486\n",
       "Gluten Free Options     4113\n",
       "Bar                     3297\n",
       "French                  3190\n",
       "Asian                   3011\n",
       "Pizza                   2849\n",
       "Spanish                 2798\n",
       "Pub                     2449\n",
       "Cafe                    2325\n",
       "Fast Food               1705\n",
       "British                 1595\n",
       "International           1584\n",
       "Seafood                 1505\n",
       "Japanese                1464\n",
       "Central European        1393\n",
       "American                1315\n",
       "Name: Cuisine Style, dtype: int64"
      ]
     },
     "execution_count": 15,
     "metadata": {},
     "output_type": "execute_result"
    },
    {
     "data": {
      "image/png": "[encoded data removed]",
      "text/plain": [
       "<Figure size 432x288 with 1 Axes>"
      ]
     },
     "metadata": {
      "needs_background": "light"
     },
     "output_type": "display_data"
    }
   ],
   "source": [
    "# создадим Серию с кухнями\n",
    "Cuisine_clean = df['Cuisine Style'].dropna()  # чтобы не было ошибок далее\n",
    "\n",
    "# способ с помощью регулярки подсмотрен\n",
    "Cuisine_clean = pd.Series(Cuisine_clean.str.findall(r\"'(\\b.*?\\b)'\"))\n",
    "Cuisine_exloded = Cuisine_clean.explode()  # Серия со всеми кухнями\n",
    "\n",
    "# осмотрим ее\n",
    "Cuisine_exloded.value_counts().head(15).plot(kind='bar', title='Кухни')\n",
    "Cuisine_exloded.value_counts().head(20)"
   ]
  },
  {
   "cell_type": "markdown",
   "metadata": {
    "id": "7ugMQyGUex1j"
   },
   "source": [
    "Как мы видим, наибольшее количество кухонь готовит еду для вегетарианцев. Также в почете Европейская еда, но это не удивительно, учитывая, что выборка из Европы. Посмотрим, как изменится данный показатель, после заполнения пропусков, объединения похожих групп в одну, например (Vegetarian Friendly  и Vegan Options), (Pub и Bar)"
   ]
  },
  {
   "cell_type": "markdown",
   "metadata": {
    "id": "WXb51OIkex1j"
   },
   "source": [
    "#### Рассмотрим оставщиеся количественные признаки Ranking, Rating, Number of Reviews "
   ]
  },
  {
   "cell_type": "code",
   "execution_count": 16,
   "metadata": {
    "id": "7nA1j2Jcex1k"
   },
   "outputs": [],
   "source": [
    "# создадим функцию для получения интересующих нас параметров\n",
    "def quantity_check(column):\n",
    "    ab_25perc = df[column].quantile(0.25, interpolation=\"midpoint\")\n",
    "    ab_75perc = df[column].quantile(0.75, interpolation=\"midpoint\")\n",
    "    ab_IQR = ab_75perc-ab_25perc\n",
    "    print(column, df[column].describe(), sep='\\n')\n",
    "    print('количество неизвестных значений: {}'.format(\n",
    "        df[column].isnull().sum()))\n",
    "    print('Q1:{}'.format(ab_25perc), 'Q3:{}'.format(ab_75perc), 'IQR:{}'.format(ab_IQR),\n",
    "          'Граница выбросов: [{a},{b}]'.format(a=ab_25perc-1.5*ab_IQR, b=ab_75perc+1.5*ab_IQR), sep='\\n')"
   ]
  },
  {
   "cell_type": "code",
   "execution_count": 17,
   "metadata": {
    "colab": {
     "base_uri": "https://localhost:8080/",
     "height": 542
    },
    "id": "Balczgbnex1m",
    "outputId": "c020bb47-4beb-4b11-f47d-e32a498dfa51"
   },
   "outputs": [
    {
     "name": "stdout",
     "output_type": "stream",
     "text": [
      "Ranking\n",
      "count    40000.000000\n",
      "mean      3676.028525\n",
      "std       3708.749567\n",
      "min          1.000000\n",
      "25%        973.000000\n",
      "50%       2285.000000\n",
      "75%       5260.000000\n",
      "max      16444.000000\n",
      "Name: Ranking, dtype: float64\n",
      "количество неизвестных значений: 0\n",
      "Q1:973.0\n",
      "Q3:5260.0\n",
      "IQR:4287.0\n",
      "Граница выбросов: [-5457.5,11690.5]\n",
      "Количество выбросов: 2450\n"
     ]
    },
    {
     "data": {
      "image/png": "[encoded data removed]",
      "text/plain": [
       "<Figure size 432x288 with 1 Axes>"
      ]
     },
     "metadata": {
      "needs_background": "light"
     },
     "output_type": "display_data"
    }
   ],
   "source": [
    "# начнём с Ranking\n",
    "df.Ranking.hist(bins=100)\n",
    "quantity_check('Ranking')\n",
    "\n",
    "Q1 = df['Ranking'].quantile(0.25, interpolation=\"midpoint\")\n",
    "Q3 = df['Ranking'].quantile(0.75, interpolation=\"midpoint\")\n",
    "IQR = Q3-Q1\n",
    "\n",
    "print('Количество выбросов:', df['Ranking']\n",
    "      [df['Ranking'] > (Q3+1.5*IQR)].shape[0])"
   ]
  },
  {
   "cell_type": "code",
   "execution_count": 18,
   "metadata": {
    "colab": {
     "base_uri": "https://localhost:8080/",
     "height": 265
    },
    "id": "i7SWLZ5IgtVz",
    "outputId": "5b6ad7e0-afa0-4df9-aae2-278cf069a14e"
   },
   "outputs": [
    {
     "data": {
      "image/png": "[encoded data removed]",
      "text/plain": [
       "<Figure size 432x288 with 1 Axes>"
      ]
     },
     "metadata": {
      "needs_background": "light"
     },
     "output_type": "display_data"
    }
   ],
   "source": [
    "# посмотрим как будет выглядеть картина по одному городу - Лондону (он больше всего встречается):\n",
    "df['Ranking'][df['City'] == 'London'].hist(bins=80)\n",
    "plt.show()"
   ]
  },
  {
   "cell_type": "code",
   "execution_count": 19,
   "metadata": {
    "colab": {
     "base_uri": "https://localhost:8080/",
     "height": 482
    },
    "id": "LRKWoyWxex1q",
    "outputId": "f8fb45d8-0448-4b18-825e-9dc1be8ba39b"
   },
   "outputs": [
    {
     "data": {
      "image/png": "[encoded data removed]",
      "text/plain": [
       "<Figure size 576x576 with 1 Axes>"
      ]
     },
     "metadata": {
      "needs_background": "light"
     },
     "output_type": "display_data"
    }
   ],
   "source": [
    "# посмотрим, как будет выглядеть распределение по топ городам:\n",
    "for x in (df['City'].value_counts()).index[0:5]:\n",
    "    df['Ranking'][df['City'] == x].hist(figsize=(8, 8), bins=80)\n",
    "plt.show()"
   ]
  },
  {
   "cell_type": "code",
   "execution_count": 20,
   "metadata": {
    "colab": {
     "base_uri": "https://localhost:8080/",
     "height": 282
    },
    "id": "yS_PySABlZQG",
    "outputId": "c54c4aef-8924-4fcc-c4ce-8d6704a916c2"
   },
   "outputs": [
    {
     "data": {
      "text/plain": [
       "<matplotlib.axes._subplots.AxesSubplot at 0x23569cd5448>"
      ]
     },
     "execution_count": 20,
     "metadata": {},
     "output_type": "execute_result"
    },
    {
     "data": {
      "image/png": "[encoded data removed]",
      "text/plain": [
       "<Figure size 432x288 with 1 Axes>"
      ]
     },
     "metadata": {
      "needs_background": "light"
     },
     "output_type": "display_data"
    }
   ],
   "source": [
    "# А что если взять квадратный корень из Признака\n",
    "df['Ranking'].apply(lambda x: np.sqrt(x)).hist(bins=80)"
   ]
  },
  {
   "cell_type": "markdown",
   "metadata": {
    "id": "OhHqTElKlC3X"
   },
   "source": [
    "#### Выводы:\n",
    "- у нас много ресторанов, которые не дотягивают до 2500 места в своём городе, но если посмотреть по городам, то распределение выглядит более нормальным. Просто в больших городах больше ресторанов, поэтому мы имеем смещение.\n",
    "- Пропусков нет, но есть выбросы - 2450 шт. Пока их не будем удалять+ возможно их не стоит трогать, потому что мы просто обрежем часть ресторанов в Лондоне и Париже.\n",
    "- Распределение выглядит более нормальным, если взять **квадратный корень** из признака Ranking. Модели это не помогло\n"
   ]
  },
  {
   "cell_type": "code",
   "execution_count": 21,
   "metadata": {
    "colab": {
     "base_uri": "https://localhost:8080/",
     "height": 916
    },
    "id": "ZKEuutyXex1s",
    "outputId": "4bf57d03-e2e7-4806-f797-c05a1087024c",
    "scrolled": false
   },
   "outputs": [
    {
     "name": "stdout",
     "output_type": "stream",
     "text": [
      "Rating\n",
      "count    40000.000000\n",
      "mean         3.993037\n",
      "std          0.668417\n",
      "min          1.000000\n",
      "25%          3.500000\n",
      "50%          4.000000\n",
      "75%          4.500000\n",
      "max          5.000000\n",
      "Name: Rating, dtype: float64\n",
      "количество неизвестных значений: 0\n",
      "Q1:3.5\n",
      "Q3:4.5\n",
      "IQR:1.0\n",
      "Граница выбросов: [2.0,6.0]\n"
     ]
    },
    {
     "data": {
      "text/plain": [
       "4.0    13692\n",
       "4.5    10929\n",
       "3.5     6824\n",
       "5.0     3879\n",
       "3.0     2955\n",
       "2.5      915\n",
       "2.0      466\n",
       "1.0      201\n",
       "1.5      139\n",
       "Name: Rating, dtype: int64"
      ]
     },
     "execution_count": 21,
     "metadata": {},
     "output_type": "execute_result"
    },
    {
     "data": {
      "image/png": "[encoded data removed]",
      "text/plain": [
       "<Figure size 576x576 with 1 Axes>"
      ]
     },
     "metadata": {
      "needs_background": "light"
     },
     "output_type": "display_data"
    }
   ],
   "source": [
    "df.Rating.hist(figsize=(8, 8), bins=9)\n",
    "quantity_check('Rating')\n",
    "df.Rating.value_counts()"
   ]
  },
  {
   "cell_type": "markdown",
   "metadata": {
    "id": "iyQBPfMCex1v"
   },
   "source": [
    "#### Выводы:\n",
    "- в целом похоже на нормальное распределение \n",
    "- в данных есть выбросы, но учитывая их количество (340), убирать их пока не будем, тем более, что здравый смысл говорит нам, что оценки могут быть и единицей и 1.5\n",
    "- чаще всего ставят оценку 4 и 4.5"
   ]
  },
  {
   "cell_type": "code",
   "execution_count": 22,
   "metadata": {
    "colab": {
     "base_uri": "https://localhost:8080/",
     "height": 742
    },
    "id": "27ISa_RSex1v",
    "outputId": "ca522d01-e646-42d0-d6c8-6b49943ef6be",
    "scrolled": false
   },
   "outputs": [
    {
     "name": "stdout",
     "output_type": "stream",
     "text": [
      "Number of Reviews\n",
      "count    37457.000000\n",
      "mean       124.825480\n",
      "std        295.666352\n",
      "min          2.000000\n",
      "25%          9.000000\n",
      "50%         33.000000\n",
      "75%        115.000000\n",
      "max       9660.000000\n",
      "Name: Number of Reviews, dtype: float64\n",
      "количество неизвестных значений: 2543\n",
      "Q1:9.0\n",
      "Q3:115.0\n",
      "IQR:106.0\n",
      "Граница выбросов: [-150.0,274.0]\n"
     ]
    },
    {
     "data": {
      "image/png": "[encoded data removed]",
      "text/plain": [
       "<Figure size 576x576 with 1 Axes>"
      ]
     },
     "metadata": {
      "needs_background": "light"
     },
     "output_type": "display_data"
    }
   ],
   "source": [
    "df['Number of Reviews'].hist(figsize=(8, 8), bins=100)\n",
    "quantity_check('Number of Reviews')"
   ]
  },
  {
   "cell_type": "code",
   "execution_count": 23,
   "metadata": {
    "colab": {
     "base_uri": "https://localhost:8080/",
     "height": 500
    },
    "id": "dfb_A46Uex1x",
    "outputId": "58997611-0af6-4489-c06f-6acc91139346"
   },
   "outputs": [
    {
     "name": "stdout",
     "output_type": "stream",
     "text": [
      "Количество выбросов: 4348\n"
     ]
    },
    {
     "data": {
      "image/png": "[encoded data removed]",
      "text/plain": [
       "<Figure size 576x576 with 1 Axes>"
      ]
     },
     "metadata": {
      "needs_background": "light"
     },
     "output_type": "display_data"
    }
   ],
   "source": [
    "# посмотрим как будет выглядеть картина без выбросов:\n",
    "ab_25perc = df['Number of Reviews'].quantile(0.25, interpolation=\"midpoint\")\n",
    "ab_75perc = df['Number of Reviews'].quantile(0.75, interpolation=\"midpoint\")\n",
    "ab_IQR = ab_75perc-ab_25perc\n",
    "\n",
    "df['Number of Reviews'][df['Number of Reviews'].between(\n",
    "    ab_25perc-1.5*ab_IQR, ab_75perc+1.5*ab_IQR)].hist(figsize=(8, 8))\n",
    "\n",
    "print('Количество выбросов:', df['Number of Reviews']\n",
    "      [df['Number of Reviews'] > (ab_75perc+1.5*ab_IQR)].shape[0])"
   ]
  },
  {
   "cell_type": "code",
   "execution_count": 24,
   "metadata": {
    "colab": {
     "base_uri": "https://localhost:8080/",
     "height": 662
    },
    "id": "TYu3XV1Lex1z",
    "outputId": "73b654eb-737d-45d2-f5bd-16bc99699fa2"
   },
   "outputs": [
    {
     "data": {
      "text/html": [
       "<div>\n",
       "<style scoped>\n",
       "    .dataframe tbody tr th:only-of-type {\n",
       "        vertical-align: middle;\n",
       "    }\n",
       "\n",
       "    .dataframe tbody tr th {\n",
       "        vertical-align: top;\n",
       "    }\n",
       "\n",
       "    .dataframe thead th {\n",
       "        text-align: right;\n",
       "    }\n",
       "</style>\n",
       "<table border=\"1\" class=\"dataframe\">\n",
       "  <thead>\n",
       "    <tr style=\"text-align: right;\">\n",
       "      <th></th>\n",
       "      <th>Price Range</th>\n",
       "      <th>URL_TA</th>\n",
       "      <th>Number of Reviews</th>\n",
       "      <th>Rating</th>\n",
       "      <th>Ranking</th>\n",
       "    </tr>\n",
       "  </thead>\n",
       "  <tbody>\n",
       "    <tr>\n",
       "      <th>19251</th>\n",
       "      <td>3.0</td>\n",
       "      <td>london_steakhouse_co</td>\n",
       "      <td>9660.0</td>\n",
       "      <td>4.0</td>\n",
       "      <td>376.0</td>\n",
       "    </tr>\n",
       "    <tr>\n",
       "      <th>27027</th>\n",
       "      <td>2.0</td>\n",
       "      <td>cantina_e_cucina</td>\n",
       "      <td>8927.0</td>\n",
       "      <td>4.5</td>\n",
       "      <td>65.0</td>\n",
       "    </tr>\n",
       "    <tr>\n",
       "      <th>15779</th>\n",
       "      <td>3.0</td>\n",
       "      <td>58_tour_eiffel</td>\n",
       "      <td>7622.0</td>\n",
       "      <td>4.0</td>\n",
       "      <td>431.0</td>\n",
       "    </tr>\n",
       "    <tr>\n",
       "      <th>16433</th>\n",
       "      <td>2.0</td>\n",
       "      <td>hungarikum_bisztro</td>\n",
       "      <td>7575.0</td>\n",
       "      <td>4.5</td>\n",
       "      <td>13.0</td>\n",
       "    </tr>\n",
       "    <tr>\n",
       "      <th>8516</th>\n",
       "      <td>2.0</td>\n",
       "      <td>hard_rock_cafe_amsterdam</td>\n",
       "      <td>6777.0</td>\n",
       "      <td>4.0</td>\n",
       "      <td>267.0</td>\n",
       "    </tr>\n",
       "    <tr>\n",
       "      <th>32909</th>\n",
       "      <td>1.0</td>\n",
       "      <td>pizzeria_spontini</td>\n",
       "      <td>6360.0</td>\n",
       "      <td>3.5</td>\n",
       "      <td>632.0</td>\n",
       "    </tr>\n",
       "    <tr>\n",
       "      <th>39071</th>\n",
       "      <td>1.0</td>\n",
       "      <td>ristorante_carlo_menta</td>\n",
       "      <td>6309.0</td>\n",
       "      <td>3.5</td>\n",
       "      <td>2511.0</td>\n",
       "    </tr>\n",
       "    <tr>\n",
       "      <th>18450</th>\n",
       "      <td>1.0</td>\n",
       "      <td>museo_del_jamon</td>\n",
       "      <td>6013.0</td>\n",
       "      <td>4.0</td>\n",
       "      <td>325.0</td>\n",
       "    </tr>\n",
       "    <tr>\n",
       "      <th>4817</th>\n",
       "      <td>2.0</td>\n",
       "      <td>that_s_amore</td>\n",
       "      <td>5927.0</td>\n",
       "      <td>4.5</td>\n",
       "      <td>145.0</td>\n",
       "    </tr>\n",
       "    <tr>\n",
       "      <th>21860</th>\n",
       "      <td>2.0</td>\n",
       "      <td>eataly_milano_smeraldo</td>\n",
       "      <td>5870.0</td>\n",
       "      <td>3.5</td>\n",
       "      <td>716.0</td>\n",
       "    </tr>\n",
       "    <tr>\n",
       "      <th>5717</th>\n",
       "      <td>3.0</td>\n",
       "      <td>hutong</td>\n",
       "      <td>5216.0</td>\n",
       "      <td>4.0</td>\n",
       "      <td>560.0</td>\n",
       "    </tr>\n",
       "    <tr>\n",
       "      <th>17588</th>\n",
       "      <td>2.0</td>\n",
       "      <td>plachutta_wollzeile</td>\n",
       "      <td>4937.0</td>\n",
       "      <td>4.0</td>\n",
       "      <td>71.0</td>\n",
       "    </tr>\n",
       "    <tr>\n",
       "      <th>33423</th>\n",
       "      <td>3.0</td>\n",
       "      <td>london_steakhouse_co_chelsea</td>\n",
       "      <td>4904.0</td>\n",
       "      <td>4.0</td>\n",
       "      <td>531.0</td>\n",
       "    </tr>\n",
       "    <tr>\n",
       "      <th>17418</th>\n",
       "      <td>2.0</td>\n",
       "      <td>les_quinze_nits</td>\n",
       "      <td>4738.0</td>\n",
       "      <td>3.5</td>\n",
       "      <td>1044.0</td>\n",
       "    </tr>\n",
       "    <tr>\n",
       "      <th>19302</th>\n",
       "      <td>2.0</td>\n",
       "      <td>zum_augustiner</td>\n",
       "      <td>4694.0</td>\n",
       "      <td>4.0</td>\n",
       "      <td>82.0</td>\n",
       "    </tr>\n",
       "    <tr>\n",
       "      <th>2752</th>\n",
       "      <td>2.0</td>\n",
       "      <td>cafe_imperial</td>\n",
       "      <td>4521.0</td>\n",
       "      <td>4.5</td>\n",
       "      <td>80.0</td>\n",
       "    </tr>\n",
       "    <tr>\n",
       "      <th>34458</th>\n",
       "      <td>2.0</td>\n",
       "      <td>comme_chez_soi</td>\n",
       "      <td>4437.0</td>\n",
       "      <td>5.0</td>\n",
       "      <td>1.0</td>\n",
       "    </tr>\n",
       "    <tr>\n",
       "      <th>12775</th>\n",
       "      <td>2.0</td>\n",
       "      <td>felice_a_testaccio</td>\n",
       "      <td>4402.0</td>\n",
       "      <td>4.0</td>\n",
       "      <td>522.0</td>\n",
       "    </tr>\n",
       "    <tr>\n",
       "      <th>24674</th>\n",
       "      <td>2.0</td>\n",
       "      <td>hard_rock_cafe_rome</td>\n",
       "      <td>4382.0</td>\n",
       "      <td>4.0</td>\n",
       "      <td>660.0</td>\n",
       "    </tr>\n",
       "    <tr>\n",
       "      <th>19824</th>\n",
       "      <td>3.0</td>\n",
       "      <td>oblix</td>\n",
       "      <td>4373.0</td>\n",
       "      <td>4.0</td>\n",
       "      <td>707.0</td>\n",
       "    </tr>\n",
       "  </tbody>\n",
       "</table>\n",
       "</div>"
      ],
      "text/plain": [
       "       Price Range                        URL_TA  Number of Reviews  Rating  \\\n",
       "19251          3.0          london_steakhouse_co             9660.0     4.0   \n",
       "27027          2.0              cantina_e_cucina             8927.0     4.5   \n",
       "15779          3.0                58_tour_eiffel             7622.0     4.0   \n",
       "16433          2.0            hungarikum_bisztro             7575.0     4.5   \n",
       "8516           2.0      hard_rock_cafe_amsterdam             6777.0     4.0   \n",
       "32909          1.0             pizzeria_spontini             6360.0     3.5   \n",
       "39071          1.0        ristorante_carlo_menta             6309.0     3.5   \n",
       "18450          1.0               museo_del_jamon             6013.0     4.0   \n",
       "4817           2.0                  that_s_amore             5927.0     4.5   \n",
       "21860          2.0        eataly_milano_smeraldo             5870.0     3.5   \n",
       "5717           3.0                        hutong             5216.0     4.0   \n",
       "17588          2.0           plachutta_wollzeile             4937.0     4.0   \n",
       "33423          3.0  london_steakhouse_co_chelsea             4904.0     4.0   \n",
       "17418          2.0               les_quinze_nits             4738.0     3.5   \n",
       "19302          2.0                zum_augustiner             4694.0     4.0   \n",
       "2752           2.0                 cafe_imperial             4521.0     4.5   \n",
       "34458          2.0                comme_chez_soi             4437.0     5.0   \n",
       "12775          2.0            felice_a_testaccio             4402.0     4.0   \n",
       "24674          2.0           hard_rock_cafe_rome             4382.0     4.0   \n",
       "19824          3.0                         oblix             4373.0     4.0   \n",
       "\n",
       "       Ranking  \n",
       "19251    376.0  \n",
       "27027     65.0  \n",
       "15779    431.0  \n",
       "16433     13.0  \n",
       "8516     267.0  \n",
       "32909    632.0  \n",
       "39071   2511.0  \n",
       "18450    325.0  \n",
       "4817     145.0  \n",
       "21860    716.0  \n",
       "5717     560.0  \n",
       "17588     71.0  \n",
       "33423    531.0  \n",
       "17418   1044.0  \n",
       "19302     82.0  \n",
       "2752      80.0  \n",
       "34458      1.0  \n",
       "12775    522.0  \n",
       "24674    660.0  \n",
       "19824    707.0  "
      ]
     },
     "execution_count": 24,
     "metadata": {},
     "output_type": "execute_result"
    }
   ],
   "source": [
    "# посмотрим какие рестораны туда попали:\n",
    "df[df['Number of Reviews'] > 274][['Price Range', 'URL_TA', 'Number of Reviews',\n",
    "                                   'Rating', 'Ranking']].sort_values('Number of Reviews', ascending=False).head(20)"
   ]
  },
  {
   "cell_type": "markdown",
   "metadata": {
    "id": "nsqNlQWGex10"
   },
   "source": [
    "#### Выводы:\n",
    "- На нормальное распределение не похоже, это также видно из значения среднего значения и медианы\n",
    "- Пропущено 2543 значения\n",
    "- в данных есть выбросы, порядка 4348, пока не будем удалять, посмотрим как повлияют пропуски на общую картину и как поведет себя модель\n",
    "\n",
    "\n",
    "\n",
    "### Еще раз взглянем на данные и построим модель \"в лоб\", чтобы понять исходные значения метрик:\n",
    "- Все Нан просто удалим\n",
    "- Все не количественные признаки тоже удалим\n",
    "\n"
   ]
  },
  {
   "cell_type": "markdown",
   "metadata": {
    "id": "9OT2Rj-Rgmjq"
   },
   "source": [
    "### На данном этапе - **MAE: 0.3666390370301667**\n",
    "## Попробуем улучшить нашу модель\n"
   ]
  },
  {
   "cell_type": "markdown",
   "metadata": {
    "id": "WmZIyp2ouU0S"
   },
   "source": [
    "## Разбираемся с NAN"
   ]
  },
  {
   "cell_type": "code",
   "execution_count": 25,
   "metadata": {
    "colab": {
     "base_uri": "https://localhost:8080/",
     "height": 329
    },
    "id": "cw-d4PUwuU0S",
    "outputId": "2df10483-fde4-4037-d703-542cf9db7200"
   },
   "outputs": [
    {
     "name": "stdout",
     "output_type": "stream",
     "text": [
      "<class 'pandas.core.frame.DataFrame'>\n",
      "RangeIndex: 40000 entries, 0 to 39999\n",
      "Data columns (total 11 columns):\n",
      " #   Column             Non-Null Count  Dtype  \n",
      "---  ------             --------------  -----  \n",
      " 0   Restaurant_id      40000 non-null  object \n",
      " 1   City               40000 non-null  object \n",
      " 2   Cuisine Style      30717 non-null  object \n",
      " 3   Ranking            40000 non-null  float64\n",
      " 4   Rating             40000 non-null  float64\n",
      " 5   Price Range        26114 non-null  float64\n",
      " 6   Number of Reviews  37457 non-null  float64\n",
      " 7   URL_TA             40000 non-null  object \n",
      " 8   ID_TA              40000 non-null  object \n",
      " 9   Review_date        33529 non-null  object \n",
      " 10  len_Review_date    33529 non-null  float64\n",
      "dtypes: float64(5), object(6)\n",
      "memory usage: 3.4+ MB\n"
     ]
    }
   ],
   "source": [
    "df2 = df.copy()\n",
    "df2.info()\n",
    "# колонки с Nan: Cuisine Style, Price Range, Number of Reviews, Review_date, len_Review_date\n",
    "# Reviews не заполняем, полезную инфо мы из него уже вычленили"
   ]
  },
  {
   "cell_type": "code",
   "execution_count": 26,
   "metadata": {
    "id": "TrjtRkwluU0V"
   },
   "outputs": [],
   "source": [
    "# по заветам,перед обработкой NAN лучше вынесем информацию о наличии пропуска как отдельный признак\n",
    "df2['Price Range_isNAN'] = pd.isna(df2['Price Range']).astype('uint8')\n",
    "df2['Review_date_isNAN'] = pd.isna(df2['Review_date']).astype('uint8')\n",
    "df2['Number of Reviews_isNAN'] = pd.isna(\n",
    "    df2['Number of Reviews']).astype('uint8')\n",
    "df2['len_Review_date_isNAN'] = pd.isna(df2['len_Review_date']).astype('uint8')"
   ]
  },
  {
   "cell_type": "markdown",
   "metadata": {
    "id": "AmZKTzPvuU0X"
   },
   "source": [
    "\n",
    "### Review_date, len_Review_date"
   ]
  },
  {
   "cell_type": "code",
   "execution_count": 27,
   "metadata": {
    "id": "Rl6ZS_u7uU0X"
   },
   "outputs": [],
   "source": [
    "# проще всего подготовленным на основании Reviews - Review_date, len_Review_date\n",
    "# Если отзывов на сайте нет, значит их просто нет, ставим 0\n",
    "df2['Review_date'].fillna(0, inplace=True)\n",
    "df2['len_Review_date'].fillna(0, inplace=True)"
   ]
  },
  {
   "cell_type": "markdown",
   "metadata": {
    "id": "WD2L-trduU0b"
   },
   "source": [
    "### Number of Reviews\n",
    "логично было бы заполнить пропуски 0, но также логично воспользоваться len_Review_date (количество отзывов на сайте ресторана), поскольку вполне разумно предположить, что они взяты оттуда. в пользу этого аргумента говорит следующее:"
   ]
  },
  {
   "cell_type": "code",
   "execution_count": 28,
   "metadata": {
    "colab": {
     "base_uri": "https://localhost:8080/",
     "height": 145
    },
    "id": "Ee7Mmo9XuU0c",
    "outputId": "155f5873-0263-4e2c-c1b3-cb26f05f2694"
   },
   "outputs": [
    {
     "name": "stdout",
     "output_type": "stream",
     "text": [
      "0\n",
      "449\n"
     ]
    },
    {
     "data": {
      "text/html": [
       "<div>\n",
       "<style scoped>\n",
       "    .dataframe tbody tr th:only-of-type {\n",
       "        vertical-align: middle;\n",
       "    }\n",
       "\n",
       "    .dataframe tbody tr th {\n",
       "        vertical-align: top;\n",
       "    }\n",
       "\n",
       "    .dataframe thead th {\n",
       "        text-align: right;\n",
       "    }\n",
       "</style>\n",
       "<table border=\"1\" class=\"dataframe\">\n",
       "  <thead>\n",
       "    <tr style=\"text-align: right;\">\n",
       "      <th></th>\n",
       "      <th>len_Review_date</th>\n",
       "      <th>Number of Reviews</th>\n",
       "    </tr>\n",
       "  </thead>\n",
       "  <tbody>\n",
       "    <tr>\n",
       "      <th>len_Review_date</th>\n",
       "      <td>1.000000</td>\n",
       "      <td>0.191031</td>\n",
       "    </tr>\n",
       "    <tr>\n",
       "      <th>Number of Reviews</th>\n",
       "      <td>0.191031</td>\n",
       "      <td>1.000000</td>\n",
       "    </tr>\n",
       "  </tbody>\n",
       "</table>\n",
       "</div>"
      ],
      "text/plain": [
       "                   len_Review_date  Number of Reviews\n",
       "len_Review_date           1.000000           0.191031\n",
       "Number of Reviews         0.191031           1.000000"
      ]
     },
     "metadata": {},
     "output_type": "display_data"
    }
   ],
   "source": [
    "print(df2[(df2.len_Review_date == 2) & (\n",
    "    df2['Number of Reviews'] == 1)].shape[0])\n",
    "print(df2[(df2.len_Review_date == 2) & (\n",
    "    df2['Number of Reviews'] == 2)].shape[0])\n",
    "\n",
    "# корреляция не самый верный показатель, но зависимость есть.\n",
    "display(df2[['len_Review_date', 'Number of Reviews']].corr())"
   ]
  },
  {
   "cell_type": "code",
   "execution_count": 29,
   "metadata": {
    "colab": {
     "base_uri": "https://localhost:8080/",
     "height": 52
    },
    "id": "acsQ8xDzuU0f",
    "outputId": "25e704a0-ac18-4807-e79b-5e88a81be041",
    "scrolled": false
   },
   "outputs": [
    {
     "name": "stdout",
     "output_type": "stream",
     "text": [
      "2543\n",
      "0\n"
     ]
    }
   ],
   "source": [
    "# однако сможем заполнить только нулями и единичками\n",
    "print(df2[(df2['Number of Reviews'].isnull()) & (df2.len_Review_date <= 1)]\n",
    "      [['len_Review_date', 'Number of Reviews']].shape[0])\n",
    "print(df2[(df2['Number of Reviews'].isnull()) & (df2.len_Review_date > 1)]\n",
    "      [['len_Review_date', 'Number of Reviews']].shape[0])"
   ]
  },
  {
   "cell_type": "code",
   "execution_count": 30,
   "metadata": {
    "id": "7wPJdN2tuU0h",
    "scrolled": false
   },
   "outputs": [],
   "source": [
    "# Заполним пропуски\n",
    "df2.loc[(df2['len_Review_date'] == 1) &\n",
    "        df2['Number of Reviews'].isnull(), 'Number of Reviews'] = 1\n",
    "df2.loc[(df2['len_Review_date'] == 0) &\n",
    "        df2['Number of Reviews'].isnull(), 'Number of Reviews'] = 0"
   ]
  },
  {
   "cell_type": "markdown",
   "metadata": {
    "id": "j6ryF7aTsVws"
   },
   "source": [
    "### Price Range\n",
    "в колонке URL_TA содержатся названия ресторанов, логично предположить, что у одних и тех же ресторанов будет одинаковый ценовой диапазон, поэтому сначала заменим пропуски исходя из ценового значения конкретного ресторана"
   ]
  },
  {
   "cell_type": "code",
   "execution_count": 31,
   "metadata": {
    "colab": {
     "base_uri": "https://localhost:8080/",
     "height": 121
    },
    "id": "uE8eZZ11w2_E",
    "outputId": "11cfee84-ffce-43f2-a8ad-9730b19720a2",
    "scrolled": true
   },
   "outputs": [
    {
     "data": {
      "text/plain": [
       "1.0    37\n",
       "2.0     2\n",
       "Name: Price Range, dtype: int64"
      ]
     },
     "metadata": {},
     "output_type": "display_data"
    },
    {
     "data": {
      "text/plain": [
       "1.0    21\n",
       "2.0     2\n",
       "Name: Price Range, dtype: int64"
      ]
     },
     "metadata": {},
     "output_type": "display_data"
    }
   ],
   "source": [
    "display(df2[df['URL_TA'] == 'mcdonald_s']['Price Range'].value_counts())\n",
    "display(df2[df['URL_TA'] == 'burger_king']['Price Range'].value_counts())\n",
    "# при заполнение пропусков учеть, что нужно брать значение МОДЫ\n",
    "# также учесть, что цены по ресторанам может не быть вообще"
   ]
  },
  {
   "cell_type": "code",
   "execution_count": 32,
   "metadata": {
    "id": "i43OICN-V-k_"
   },
   "outputs": [],
   "source": [
    "# создаём переменную,где будут хранится значения ресторанов, в которых хотя бы одно значение PR не NaN\n",
    "URL = df2.loc[df2['Price Range'] >= 0, 'URL_TA'].value_counts()\n",
    "URL = URL[URL > 1].index\n",
    "\n",
    "# пройдемся циклом и заполним значения\n",
    "for x in URL:\n",
    "    df2.loc[(df2['Price Range'].isnull()) & (df2['URL_TA'] == x),\n",
    "            'Price Range'] = df2[df['URL_TA'] == x]['Price Range'].mode()[0]"
   ]
  },
  {
   "cell_type": "code",
   "execution_count": 33,
   "metadata": {
    "id": "sVKzV0k-sVwz",
    "scrolled": true
   },
   "outputs": [],
   "source": [
    "# провернём аналогичную операцию с City, но сначала посмотрим какая Мода по городам\n",
    "Moda = []\n",
    "for y in df2['City'].value_counts().index:\n",
    "    Moda.append(df2.loc[df2['City'] == y, 'Price Range'].mode()[0])\n",
    "\n",
    "# у всех городов она двойка, соответсвенно просто заполним оставщиеся пропуски ею\n",
    "df2['Price Range'] = df2['Price Range'].fillna(df2['Price Range'].mode()[0])"
   ]
  },
  {
   "cell_type": "markdown",
   "metadata": {
    "id": "XeSDTeCmsVw2"
   },
   "source": [
    "### Cuisine Style\n",
    "- В колонке URL_TA содержатся названия ресторанов, логично предположить, что у одних и тех же ресторанов будет одинаковая кухня. Рассмотрим только наиболее распространенные кухни, поскольку кухонь много, и прочие колонки мы будем заполнять как Other\n",
    "- Также, согласно ранее полученной инфо, объединим похожих кухни в одни, например (Vegetarian Friendly  и Vegan Options), (Pub и Bar)"
   ]
  },
  {
   "cell_type": "code",
   "execution_count": 34,
   "metadata": {
    "colab": {
     "base_uri": "https://localhost:8080/",
     "height": 173
    },
    "id": "IW1Fx7MVsVw2",
    "outputId": "1f5982d7-bc50-43d5-ec0a-6c135b01b360",
    "scrolled": false
   },
   "outputs": [
    {
     "data": {
      "text/plain": [
       "['Fast Food']                                       17\n",
       "['American', 'Fast Food']                           16\n",
       "['American']                                         5\n",
       "['Fast Food', 'American']                            5\n",
       "['American', 'Fast Food', 'Vegetarian Friendly']     1\n",
       "['Polish', 'European']                               1\n",
       "['Fast Food', 'Cafe']                                1\n",
       "['American', 'Cafe', 'Fast Food']                    1\n",
       "Name: Cuisine Style, dtype: int64"
      ]
     },
     "execution_count": 34,
     "metadata": {},
     "output_type": "execute_result"
    }
   ],
   "source": [
    "df2[df['URL_TA'] == 'mcdonald_s']['Cuisine Style'].value_counts()"
   ]
  },
  {
   "cell_type": "code",
   "execution_count": 35,
   "metadata": {
    "id": "xGMI9X13sVw4"
   },
   "outputs": [],
   "source": [
    "# исходя из топа, произведем замену:\n",
    "df2.loc[df['URL_TA'] == 'mcdonald_s',\n",
    "        'Cuisine Style'] = \"['American', 'Fast Food']\""
   ]
  },
  {
   "cell_type": "code",
   "execution_count": 36,
   "metadata": {
    "colab": {
     "base_uri": "https://localhost:8080/",
     "height": 138
    },
    "id": "zAotd93ysVw7",
    "outputId": "d77dbaf0-f953-4783-9820-b7894b06786d",
    "scrolled": false
   },
   "outputs": [
    {
     "data": {
      "text/plain": [
       "['American', 'Fast Food']                       12\n",
       "['Fast Food']                                    6\n",
       "['Fast Food', 'American']                        5\n",
       "['American']                                     3\n",
       "['Fast Food', 'American', 'Asian', 'Nepali']     1\n",
       "['French']                                       1\n",
       "Name: Cuisine Style, dtype: int64"
      ]
     },
     "execution_count": 36,
     "metadata": {},
     "output_type": "execute_result"
    }
   ],
   "source": [
    "df2[df['URL_TA'] == 'burger_king']['Cuisine Style'].value_counts()"
   ]
  },
  {
   "cell_type": "code",
   "execution_count": 37,
   "metadata": {
    "id": "xBH6xwuCsVw8"
   },
   "outputs": [],
   "source": [
    "# исходя из топа, произведем замену:\n",
    "df2.loc[df['URL_TA'] == 'burger_king',\n",
    "        'Cuisine Style'] = \"['American', 'Fast Food']\""
   ]
  },
  {
   "cell_type": "code",
   "execution_count": 38,
   "metadata": {
    "colab": {
     "base_uri": "https://localhost:8080/",
     "height": 190
    },
    "id": "3trMz-0PsVxA",
    "outputId": "1304f6c1-8d4b-41ea-926f-9f0112fdf12e"
   },
   "outputs": [
    {
     "data": {
      "text/plain": [
       "['Fast Food']                                           4\n",
       "['Fast Food', 'Vegetarian Friendly']                    2\n",
       "['Fast Food', 'American']                               2\n",
       "['Spanish', 'Vegetarian Friendly']                      1\n",
       "['American']                                            1\n",
       "['American', 'Fast Food']                               1\n",
       "['Fast Food', 'American', 'Cafe']                       1\n",
       "['Fast Food', 'Delicatessen', 'Vegetarian Friendly']    1\n",
       "['British']                                             1\n",
       "Name: Cuisine Style, dtype: int64"
      ]
     },
     "execution_count": 38,
     "metadata": {},
     "output_type": "execute_result"
    }
   ],
   "source": [
    "df2[df['URL_TA'] == 'subway']['Cuisine Style'].value_counts()"
   ]
  },
  {
   "cell_type": "code",
   "execution_count": 39,
   "metadata": {
    "id": "kUQs3m9MsVxD"
   },
   "outputs": [],
   "source": [
    "# исходя из топа и того, что это американская кухня, произведем замену:\n",
    "df2.loc[df['URL_TA'] == 'subway', 'Cuisine Style'] = \"['American', 'Fast Food']\""
   ]
  },
  {
   "cell_type": "code",
   "execution_count": 40,
   "metadata": {
    "colab": {
     "base_uri": "https://localhost:8080/",
     "height": 121
    },
    "id": "jB5osyR6sVxJ",
    "outputId": "626a3ff0-7258-4922-db9f-58d8ad36e5ae",
    "scrolled": false
   },
   "outputs": [
    {
     "data": {
      "text/plain": [
       "['Cafe', 'Fast Food']                                                                   4\n",
       "['Cafe', 'Fast Food', 'Soups', 'Vegetarian Friendly', 'Vegan Options']                  3\n",
       "['Cafe', 'Soups', 'Fast Food', 'Vegetarian Friendly', 'Vegan Options']                  2\n",
       "['Cafe', 'Fast Food', 'Vegetarian Friendly', 'Vegan Options', 'Gluten Free Options']    2\n",
       "['Fast Food', 'Vegetarian Friendly']                                                    1\n",
       "Name: Cuisine Style, dtype: int64"
      ]
     },
     "execution_count": 40,
     "metadata": {},
     "output_type": "execute_result"
    }
   ],
   "source": [
    "df2[df['URL_TA'] == 'pret_a_manger']['Cuisine Style'].value_counts().head(5)"
   ]
  },
  {
   "cell_type": "code",
   "execution_count": 41,
   "metadata": {
    "id": "44-nDr0CsVxM"
   },
   "outputs": [],
   "source": [
    "df2.loc[df['URL_TA'] == 'pret_a_manger',\n",
    "        'Cuisine Style'] = \"['Cafe', 'Fast Food']\""
   ]
  },
  {
   "cell_type": "code",
   "execution_count": 42,
   "metadata": {
    "colab": {
     "base_uri": "https://localhost:8080/",
     "height": 121
    },
    "id": "mb0dpPj6sVxQ",
    "outputId": "0d6a84ea-8d88-4253-8dc7-ea3ce0f2c445",
    "scrolled": true
   },
   "outputs": [
    {
     "data": {
      "text/plain": [
       "['American']                                                      20\n",
       "['American', 'Fast Food']                                         10\n",
       "['Fast Food', 'American']                                          5\n",
       "['Fast Food']                                                      3\n",
       "['Italian', 'American', 'Pizza', 'Fast Food', 'International']     1\n",
       "Name: Cuisine Style, dtype: int64"
      ]
     },
     "execution_count": 42,
     "metadata": {},
     "output_type": "execute_result"
    }
   ],
   "source": [
    "df2[df['URL_TA'] == 'kfc']['Cuisine Style'].value_counts()"
   ]
  },
  {
   "cell_type": "code",
   "execution_count": 43,
   "metadata": {
    "id": "hwH-ngBSsVxU"
   },
   "outputs": [],
   "source": [
    "df2.loc[df['URL_TA'] == 'kfc', 'Cuisine Style'] = \"['American', 'Fast Food']\""
   ]
  },
  {
   "cell_type": "code",
   "execution_count": 44,
   "metadata": {
    "colab": {
     "base_uri": "https://localhost:8080/",
     "height": 190
    },
    "id": "EhuYP0kPsVxX",
    "outputId": "28511d50-d339-44e3-d261-e5adff4acc03",
    "scrolled": true
   },
   "outputs": [
    {
     "data": {
      "text/plain": [
       "['Italian', 'Pizza']                                                                   13\n",
       "['Italian', 'Pizza', 'Vegetarian Friendly', 'Gluten Free Options']                      8\n",
       "['Italian', 'Pizza', 'Vegetarian Friendly', 'Vegan Options', 'Gluten Free Options']     4\n",
       "['Italian', 'Pizza', 'Vegetarian Friendly', 'Vegan Options']                            2\n",
       "['Italian', 'Pizza', 'Vegetarian Friendly']                                             2\n",
       "['Italian', 'Pizza', 'Gluten Free Options']                                             2\n",
       "['American', 'Italian', 'Vegetarian Friendly', 'Gluten Free Options']                   1\n",
       "['Italian', 'Pizza', 'Vegetarian Friendly', 'Gluten Free Options', 'Vegan Options']     1\n",
       "['Italian']                                                                             1\n",
       "Name: Cuisine Style, dtype: int64"
      ]
     },
     "execution_count": 44,
     "metadata": {},
     "output_type": "execute_result"
    }
   ],
   "source": [
    "df2[df['URL_TA'] == 'pizza_express']['Cuisine Style'].value_counts()"
   ]
  },
  {
   "cell_type": "code",
   "execution_count": 45,
   "metadata": {
    "id": "GLr9B_EbsVxZ"
   },
   "outputs": [],
   "source": [
    "df2.loc[df['URL_TA'] == 'pizza_express',\n",
    "        'Cuisine Style'] = \"['Italian', 'Pizza']\""
   ]
  },
  {
   "cell_type": "code",
   "execution_count": 46,
   "metadata": {
    "colab": {
     "base_uri": "https://localhost:8080/",
     "height": 86
    },
    "id": "honYKj2asVxc",
    "outputId": "d12fecf5-2516-42ad-b60b-c71d41424498",
    "scrolled": false
   },
   "outputs": [
    {
     "data": {
      "text/plain": [
       "['Pizza']                 22\n",
       "['Pizza', 'Fast Food']     4\n",
       "['Italian', 'Pizza']       1\n",
       "Name: Cuisine Style, dtype: int64"
      ]
     },
     "execution_count": 46,
     "metadata": {},
     "output_type": "execute_result"
    }
   ],
   "source": [
    "df2[df['URL_TA'] == 'domino_s_pizza']['Cuisine Style'].value_counts()"
   ]
  },
  {
   "cell_type": "code",
   "execution_count": 47,
   "metadata": {
    "id": "ci0ehLxPsVxj"
   },
   "outputs": [],
   "source": [
    "df2.loc[df['URL_TA'] == 'domino_s_pizza', 'Cuisine Style'] = \"['Pizza']\""
   ]
  },
  {
   "cell_type": "code",
   "execution_count": 48,
   "metadata": {
    "id": "joS2RLWosVxr"
   },
   "outputs": [],
   "source": [
    "df2[df['URL_TA'] == 'pizza_hut']['Cuisine Style'].value_counts()\n",
    "df2.loc[df['URL_TA'] == 'pizza_hut', 'Cuisine Style'] = \"['Pizza']\""
   ]
  },
  {
   "cell_type": "code",
   "execution_count": 49,
   "metadata": {
    "id": "naFZHfirsVxw",
    "scrolled": true
   },
   "outputs": [],
   "source": [
    "df2[df['URL_TA'] == 'telepizza']['Cuisine Style'].value_counts()\n",
    "df2.loc[df['URL_TA'] == 'telepizza', 'Cuisine Style'] = \"['Pizza']\""
   ]
  },
  {
   "cell_type": "markdown",
   "metadata": {
    "id": "xbis3GI5sVx2"
   },
   "source": [
    "***Теперь можно заполнить прочие Nan и посмотреть на возможности объединения. Заменять будем на Other***"
   ]
  },
  {
   "cell_type": "code",
   "execution_count": 50,
   "metadata": {
    "id": "W8uuPNthsVx2"
   },
   "outputs": [],
   "source": [
    "df2['Cuisine Style_isNAN'] = pd.isna(df2['Cuisine Style']).astype(\n",
    "    'uint8')  # чтобы зафиксировать, где были пропуски на самом деле\n",
    "\n",
    "df2['Cuisine Style'].fillna(\"['Other']\", inplace=True)"
   ]
  },
  {
   "cell_type": "code",
   "execution_count": 51,
   "metadata": {
    "colab": {
     "base_uri": "https://localhost:8080/",
     "height": 86
    },
    "id": "Jt6-BbMnsVx4",
    "outputId": "9f9a54f1-17cc-4107-c61b-b0852a98a8e6"
   },
   "outputs": [
    {
     "data": {
      "text/plain": [
       "['Mediterranean', 'European', 'Spanish', 'Vegetarian Friendly', 'Vegan Options', 'Gluten Free Options']    85\n",
       "['Italian', 'Pizza', 'Mediterranean', 'European', 'Vegetarian Friendly', 'Vegan Options']                  83\n",
       "['Indian', 'Asian', 'Vegetarian Friendly', 'Vegan Options']                                                70\n",
       "Name: Cuisine Style, dtype: int64"
      ]
     },
     "execution_count": 51,
     "metadata": {},
     "output_type": "execute_result"
    }
   ],
   "source": [
    "# Vegetarian Friendly и Vegan Options стоит объединить в одно, они идут вместе почти всегда:\n",
    "df2[df2['Cuisine Style'].str.contains(\n",
    "    'Vegan Options')]['Cuisine Style'].value_counts().head(3)"
   ]
  },
  {
   "cell_type": "code",
   "execution_count": 52,
   "metadata": {
    "colab": {
     "base_uri": "https://localhost:8080/",
     "height": 69
    },
    "id": "BZIrZSSKsVx6",
    "outputId": "c8473c18-3009-4b25-8aff-8d52553f6ca2",
    "scrolled": true
   },
   "outputs": [
    {
     "data": {
      "text/plain": [
       "['Bar', 'Pub']               255\n",
       "['Bar', 'British', 'Pub']    171\n",
       "Name: Cuisine Style, dtype: int64"
      ]
     },
     "execution_count": 52,
     "metadata": {},
     "output_type": "execute_result"
    }
   ],
   "source": [
    "# Bar и Pub также стоит объединить в одно:\n",
    "df2[df2['Cuisine Style'].str.contains(\n",
    "    'Pub')]['Cuisine Style'].value_counts().head(2)"
   ]
  },
  {
   "cell_type": "code",
   "execution_count": 53,
   "metadata": {
    "id": "VVzCKSFqsVyA",
    "scrolled": true
   },
   "outputs": [],
   "source": [
    "# но до этого преобразуем колонку:\n",
    "df2['Cuisine Style'] = pd.Series(\n",
    "    df2['Cuisine Style'].str.findall(r\"'(\\b.*?\\b)'\"))\n",
    "\n",
    "# и создадим цикл\n",
    "for x in df2['Cuisine Style']:\n",
    "    if 'Pub'in x and 'Bar' in x:\n",
    "        x.remove('Pub')\n",
    "    elif 'Pub' in x and 'Bar' not in x:\n",
    "        x.append('Bar')\n",
    "\n",
    "    if 'Vegan Options' in x and 'Vegetarian Friendly' in x:\n",
    "        x.remove('Vegan Options')\n",
    "    elif 'Vegan Options' in x and 'Vegetarian Friendly' not in x:\n",
    "        x.append('Vegetarian Friendly')\n",
    "\n",
    "    else:\n",
    "        continue"
   ]
  },
  {
   "cell_type": "code",
   "execution_count": 54,
   "metadata": {
    "colab": {
     "base_uri": "https://localhost:8080/",
     "height": 624
    },
    "id": "NzbNDVnDsVyC",
    "outputId": "8fa6c145-96c2-4103-8d07-1e7eb64a6dbb",
    "scrolled": false
   },
   "outputs": [
    {
     "name": "stdout",
     "output_type": "stream",
     "text": [
      "90%: 0.9032905823351934\n"
     ]
    },
    {
     "data": {
      "image/png": "[encoded data removed]",
      "text/plain": [
       "<Figure size 576x720 with 1 Axes>"
      ]
     },
     "metadata": {
      "needs_background": "light"
     },
     "output_type": "display_data"
    }
   ],
   "source": [
    "# проверим как все сработало\n",
    "df2['Cuisine Style'].explode().value_counts().head(\n",
    "    39).plot(kind='barh', title='Кухни', figsize=(8, 10))\n",
    "print('90%:', (df2['Cuisine Style'].explode().value_counts().head(\n",
    "    39).sum()/df2['Cuisine Style'].explode().value_counts().sum()))"
   ]
  },
  {
   "cell_type": "markdown",
   "metadata": {
    "id": "13AADRnQsVyE"
   },
   "source": [
    "- теперь в кухнях нет очевидных дублей\n",
    "- возьмём 39 первых значений, так как они покрывают 90%, встречающихся значений. За это еще и потому, что мы охватим не только кухню, но и стиль заведения (бар, кафе), а также отношение к веганской кухне и глютену (это на мой взгляд все таки не совсем кухня)\n",
    "- значения Bar и Veg friend увеличись незначительно, но по факту проверки, выяснилось, что все так и должно быть\n",
    "#### все пропуски в данных устранены, можно двигаться дальше"
   ]
  },
  {
   "cell_type": "markdown",
   "metadata": {
    "id": "u4pMdlwIuU0k"
   },
   "source": [
    "-"
   ]
  },
  {
   "cell_type": "markdown",
   "metadata": {
    "id": "C1zEL8UcsVyF"
   },
   "source": [
    "## Feature Engineering\n",
    "- Укажем столица или нет\n",
    "- Поработаем с населением\n",
    "- Количество ресторанов в городе\n",
    "- Сетевой ресторан или нет\n",
    "- Поработаем с датами"
   ]
  },
  {
   "cell_type": "code",
   "execution_count": 55,
   "metadata": {
    "id": "Ls_WVY8AsVyF"
   },
   "outputs": [],
   "source": [
    "# столица или нет:\n",
    "Capitals = ['London', 'Paris', 'Madrid', 'Berlin', 'Rome', 'Prague', 'Lisbon', 'Vienna', 'Amsterdam', 'Brussels', 'Stockholm',\n",
    "            'Budapest', 'Warsaw', 'Dublin', 'Copenhagen', 'Athens', 'Edinburgh', 'Oslo', 'Helsinki', 'Bratislava', 'Luxembourg', 'Ljubljana']\n",
    "df2['Capital'] = df2['City'].apply(lambda x: 1 if x in Capitals else 0)"
   ]
  },
  {
   "cell_type": "code",
   "execution_count": 56,
   "metadata": {
    "id": "ShPrOxyysVyI"
   },
   "outputs": [],
   "source": [
    "# создадим словарь с количеством населения (в млн. человек до 3 знаков) для каждого города\n",
    "Population = {'London': 8.787, 'Paris': 2.140, 'Madrid': 3.223, 'Barcelona': 1.636, 'Berlin': 3.748, 'Milan': 1.404, 'Rome': 2.844, 'Prague': 1.324, 'Lisbon': 0.504, 'Vienna': 1.911, 'Amsterdam': 0.821, 'Brussels': 1.211, 'Hamburg': 1.899, 'Munich': 1.471, 'Lyon': 0.513, 'Stockholm': 0.975,\n",
    "              'Budapest': 1.768, 'Warsaw': 1.856, 'Dublin': 1.388, 'Copenhagen': 0.602, 'Athens': 0.664, 'Edinburgh': 0.482, 'Zurich': 0.402, 'Oporto': 0.214, 'Geneva': 0.449, 'Krakow': 0.769, 'Oslo': 0.681, 'Helsinki': 0.631, 'Bratislava': 0.424, 'Luxembourg': 0.613, 'Ljubljana': 0.279}\n",
    "\n",
    "# добавляем в дф\n",
    "df2['Population'] = df.City.replace(to_replace=Population)"
   ]
  },
  {
   "cell_type": "code",
   "execution_count": 57,
   "metadata": {
    "id": "_ODoQF1MsVyL",
    "scrolled": true
   },
   "outputs": [],
   "source": [
    "# количество ресторанов в городе(в тыс, чтобы модель лучше их переваривала):\n",
    "restaurant_qty = round(\n",
    "    (df2.groupby(['City'])['URL_TA'].count().sort_values(ascending=False)*0.001), 3)\n",
    "\n",
    "# создадим словарь:\n",
    "rest = restaurant_qty.to_dict()\n",
    "\n",
    "# и создадим колонку со значениями:\n",
    "df2['Restaurant_qty'] = df.City.replace(to_replace=rest)"
   ]
  },
  {
   "cell_type": "code",
   "execution_count": 58,
   "metadata": {
    "id": "nTcxSdd4sVyN"
   },
   "outputs": [],
   "source": [
    "# сетевой ресторан или нет (относится к сети или нет)\n",
    "# Restaurant_id — идентификационный номер ресторана / сети ресторанов, т.е видимо означает, рестораны одного владельца\n",
    "# при этом у Макдональдс и БК не один id, то есть возможно у них разные владельцы,франчайзи\n",
    "\n",
    "f = df2['Restaurant_id'].value_counts()\n",
    "f_to_use = f[f > 1].index  # более 1 ресторана в сети"
   ]
  },
  {
   "cell_type": "code",
   "execution_count": 59,
   "metadata": {
    "id": "sU3w3erAsVyQ"
   },
   "outputs": [],
   "source": [
    "# создадим колонку в дф, для которой, если ресторан сетевой - возвращает 1, если нет, то 0\n",
    "def chain(row):\n",
    "    if row['Restaurant_id'] in f_to_use:\n",
    "        return 1\n",
    "    else:\n",
    "        return 0\n",
    "\n",
    "\n",
    "# и применим ее\n",
    "df2['Restaurant_Chain'] = df2.apply(lambda row: chain(row), axis=1)"
   ]
  },
  {
   "cell_type": "markdown",
   "metadata": {
    "id": "KrjIDYonsVyS"
   },
   "source": [
    "***Поработаем с датами***"
   ]
  },
  {
   "cell_type": "code",
   "execution_count": 60,
   "metadata": {
    "id": "WLinxpOBsVyS"
   },
   "outputs": [],
   "source": [
    "# создадим колонку с первой и последней датой отзыва:\n",
    "def first(row):\n",
    "    if row['Review_date'] == 0:\n",
    "        return None\n",
    "    if len(row['Review_date']) == 1:\n",
    "        return None\n",
    "    if len(row['Review_date']) == 2:\n",
    "        return row['Review_date'][0]\n",
    "\n",
    "\n",
    "def last(row):\n",
    "    if row['Review_date'] == 0:\n",
    "        return '2020-09-27'  # текущая дата\n",
    "    if len(row['Review_date']) == 1:\n",
    "        return row['Review_date'][0]\n",
    "    if len(row['Review_date']) == 2:\n",
    "        return row['Review_date'][1]\n",
    "\n",
    "\n",
    "df2['First_review'] = df2.apply(lambda row: first(row), axis=1)\n",
    "df2['Last_review'] = df2.apply(lambda row: last(row), axis=1)"
   ]
  },
  {
   "cell_type": "code",
   "execution_count": 61,
   "metadata": {
    "id": "FG5JL8bIsVyU"
   },
   "outputs": [],
   "source": [
    "# переведем колонки в привычный формат\n",
    "df2['Last_review'] = pd.to_datetime(df2['Last_review'])\n",
    "df2['First_review'] = pd.to_datetime(df2['First_review'])\n",
    "\n",
    "# создадим колонки с месяцем последнего отзыва\n",
    "df2['Month'] = df2['Last_review'].dt.month"
   ]
  },
  {
   "cell_type": "markdown",
   "metadata": {
    "id": "DvyAmUxPuU0l"
   },
   "source": [
    "#### Теперь Сделаем dummy для Городов, кухни"
   ]
  },
  {
   "cell_type": "code",
   "execution_count": 62,
   "metadata": {
    "id": "FqrktMQysVyW",
    "scrolled": true
   },
   "outputs": [],
   "source": [
    "# для городов (c добавлением колонки для пустых значений)\n",
    "df2 = pd.get_dummies(df2, columns=['City'])  # , dummy_na=True)"
   ]
  },
  {
   "cell_type": "code",
   "execution_count": 63,
   "metadata": {
    "id": "EydPwS6ZsVyY"
   },
   "outputs": [],
   "source": [
    "# для видов кухни\n",
    "# создадим два сета, в одном кухни, Которые оставляем, во втором те, которые заменим на Other\n",
    "all_Cuisines = set(df2['Cuisine Style'].explode().value_counts().index)\n",
    "top_Cuisines = set(\n",
    "    df2['Cuisine Style'].explode().value_counts().head(39).index)\n",
    "to_throw_Cuisines = list(all_Cuisines-top_Cuisines)"
   ]
  },
  {
   "cell_type": "code",
   "execution_count": 64,
   "metadata": {
    "id": "Km-q2iNlsVyZ"
   },
   "outputs": [],
   "source": [
    "# функция для dummy кухонь\n",
    "def find_item(cell):\n",
    "    if cuisine in cell:\n",
    "        return 1\n",
    "    return 0\n",
    "\n",
    "\n",
    "for cuisine in top_Cuisines:\n",
    "    df2[cuisine] = df2['Cuisine Style'].apply(find_item)"
   ]
  },
  {
   "cell_type": "code",
   "execution_count": 65,
   "metadata": {
    "id": "40-DvgXIsVyb"
   },
   "outputs": [],
   "source": [
    "# отдельно размеремся с Other, т.к. там есть только кухни, которые мы заменили на Other а не все прочие кухни, которые не входя в 90%\n",
    "def fill_other(row):\n",
    "    if row['Other'] == 1:\n",
    "        return 1\n",
    "    if row['Other'] == 0:\n",
    "        for x in row['Cuisine Style']:\n",
    "            if x in to_throw_Cuisines:\n",
    "                return 1\n",
    "            else:\n",
    "                return 0\n",
    "\n",
    "\n",
    "new_other = df2.apply(lambda row: fill_other(row), axis=1)\n",
    "\n",
    "# и присвоим значения\n",
    "df2['Other'] = new_other"
   ]
  },
  {
   "cell_type": "code",
   "execution_count": 66,
   "metadata": {
    "id": "5Ga8S-YqsVyc"
   },
   "outputs": [],
   "source": [
    "# наконец в Cuisine Style укажем количество кухонь, вместо хранящихся списков:\n",
    "df2['Cuisine Style'] = df2['Cuisine Style'].apply(lambda x: len(x))"
   ]
  },
  {
   "cell_type": "markdown",
   "metadata": {
    "id": "qK3uedYVuU0l"
   },
   "source": [
    "## Проверка признаков перед созданием модели и фин обработка"
   ]
  },
  {
   "cell_type": "code",
   "execution_count": 67,
   "metadata": {
    "id": "QW3FPC00sVyg"
   },
   "outputs": [],
   "source": [
    "# избавимся от нечисловых признаков:\n",
    "df2.drop(['URL_TA', 'ID_TA', 'Review_date', 'Last_review',\n",
    "          'First_review'], axis=1, inplace=True)"
   ]
  },
  {
   "cell_type": "code",
   "execution_count": 68,
   "metadata": {
    "id": "wVTK6v-CsVyh"
   },
   "outputs": [],
   "source": [
    "# устраним выбросы в Ranking тк, модель стала лучше себя после этого вести\n",
    "Q1 = df2['Ranking'].quantile(0.25, interpolation=\"midpoint\")\n",
    "Q3 = df2['Ranking'].quantile(0.75, interpolation=\"midpoint\")\n",
    "IQR = Q3-Q1\n",
    "df2 = df2[df2['Ranking'] <= (Q3+1.5*IQR)]"
   ]
  },
  {
   "cell_type": "code",
   "execution_count": 69,
   "metadata": {
    "colab": {
     "base_uri": "https://localhost:8080/",
     "height": 34
    },
    "id": "Wmhgz6yru2Lz",
    "outputId": "f544411d-00dd-4586-cb78-b70b493a09a3"
   },
   "outputs": [
    {
     "data": {
      "text/plain": [
       "6.212522751767321e-76"
      ]
     },
     "execution_count": 69,
     "metadata": {},
     "output_type": "execute_result"
    }
   ],
   "source": [
    "# посмотрим определитель нашей корреляционной матрицы, чтобы понять насколько она вырождена\n",
    "A = df2.drop(['Restaurant_id', 'Rating'], axis=1).corr()\n",
    "# -1.984426526360124e-76 - очень близок к 0, что говорит о коллинеарности и мультиколлинеарности\n",
    "np.linalg.det(A)"
   ]
  },
  {
   "cell_type": "code",
   "execution_count": 70,
   "metadata": {
    "colab": {
     "base_uri": "https://localhost:8080/",
     "height": 1000
    },
    "id": "K-TrloY_sVyi",
    "outputId": "356268b2-2842-4bf5-870f-d9472d2d1eb4",
    "scrolled": false
   },
   "outputs": [
    {
     "data": {
      "text/plain": [
       "<matplotlib.axes._subplots.AxesSubplot at 0x235659cfb48>"
      ]
     },
     "execution_count": 70,
     "metadata": {},
     "output_type": "execute_result"
    },
    {
     "data": {
      "image/png": "[encoded data removed]",
      "text/plain": [
       "<Figure size 1080x1080 with 2 Axes>"
      ]
     },
     "metadata": {
      "needs_background": "light"
     },
     "output_type": "display_data"
    }
   ],
   "source": [
    "# построим две корреляции для признаков\n",
    "# Пирсона\n",
    "correlation_pirson = df2.corr()  # построим матрицу корреляции\n",
    "correlation_pirson_sorted = correlation_pirson[(correlation_pirson >= 0.70) | (\n",
    "    correlation_pirson <= -0.70)]  # покажем значимые\n",
    "correlation_pirson_sorted = correlation_pirson_sorted.replace(\n",
    "    1, None)  # заменим единицу, иначе будет все отображаться\n",
    "correlation_pirson_sorted.dropna(\n",
    "    axis=0, how='all', inplace=True)  # избавимся от Nan\n",
    "\n",
    "# построим \"тепловую карту\"\n",
    "plt.subplots(figsize=(15, 15))\n",
    "sns.heatmap(correlation_pirson_sorted, cmap='coolwarm')"
   ]
  },
  {
   "cell_type": "code",
   "execution_count": 71,
   "metadata": {
    "colab": {
     "base_uri": "https://localhost:8080/",
     "height": 1000
    },
    "id": "36cWYCMesVyk",
    "outputId": "232ef6df-07b1-4d04-ad2b-d65400414604",
    "scrolled": false
   },
   "outputs": [
    {
     "data": {
      "text/plain": [
       "<matplotlib.axes._subplots.AxesSubplot at 0x23569f16b48>"
      ]
     },
     "execution_count": 71,
     "metadata": {},
     "output_type": "execute_result"
    },
    {
     "data": {
      "image/png": "[encoded data removed]",
      "text/plain": [
       "<Figure size 1080x1080 with 2 Axes>"
      ]
     },
     "metadata": {
      "needs_background": "light"
     },
     "output_type": "display_data"
    }
   ],
   "source": [
    "# и Спирмана, чтобы лучше просмотреть нечисловые признаки\n",
    "# построим матрицу корреляции\n",
    "correlation_spearman = df2.corr(method='spearman')\n",
    "correlation_spearman_sorted = correlation_spearman[(\n",
    "    correlation_spearman >= 0.7) | (correlation_spearman <= -0.7)]\n",
    "\n",
    "correlation_spearman_sorted = correlation_spearman_sorted.replace(\n",
    "    1, None)  # заменим единицу, иначе будет все отображаться\n",
    "correlation_spearman_sorted.dropna(\n",
    "    axis=0, how='all', inplace=True)  # избавимся от Nan\n",
    "\n",
    "# построим \"тепловую карту\"\n",
    "plt.subplots(figsize=(15, 15))\n",
    "sns.heatmap(correlation_spearman_sorted, cmap='coolwarm')"
   ]
  },
  {
   "cell_type": "markdown",
   "metadata": {
    "id": "-X-iz3Oa06j0"
   },
   "source": [
    "1. Уберем **Review_date_isNAN** и **len_Review_date_isNAN**. Мало того, что они скоррелированы между собой (созданы из одного признака), они скоррелированы с len_Review_date\n",
    "2. Проверим Restaurant_qty и Population\n",
    "3. Restaurant_qty и City_London  не будем трогать, так как корр спирмена ничего не показала\n",
    "4. Проверим Price Range_isNAN и Cuisine Style_isNAN \n",
    "5. Проверим Other и Cuisine Style_isNAN. ***Other и Cuisine Style_isNAN*** убираем\n",
    "6. Подозрительная (но только на первый взгляд) корреляция Sushi и Japanese. ***Japanese*** убираем"
   ]
  },
  {
   "cell_type": "code",
   "execution_count": 72,
   "metadata": {
    "id": "eI1Uwkl2BqZK"
   },
   "outputs": [],
   "source": [
    "# посмотрим на качественные признаки, может откинем из модели те, которые\n",
    "# а) слабо коррелируют (по спирмену)\n",
    "# б) не пройдут ttest\n",
    "for_ttest_2 = (correlation_spearman[(correlation_spearman.Rating < 0.7) & (\n",
    "    correlation_spearman.Rating > -0.7)]['Rating'].sort_values(ascending=False).index[:])\n",
    "\n",
    "# Отбросим явно коррелирующие и количественные признаки\n",
    "for_ttest_2_use = [e for e in for_ttest_2 if e not in ['Japanese', 'len_Review_date_isNAN', 'Review_date_isNAN', 'Other',\n",
    "                                                       'Cuisine Style_isNAN', 'Cuisine Style', 'Month', 'Restaurant_qty', 'len_Review_date', 'Population', 'Number of Reviews', 'Ranking']]"
   ]
  },
  {
   "cell_type": "code",
   "execution_count": 73,
   "metadata": {
    "id": "2ePQOeTULmkW"
   },
   "outputs": [],
   "source": [
    "Remained = set()  # список для хранения потенциально важных для модели колонок\n",
    "\n",
    "\n",
    "def get_stat_dif2(column):\n",
    "    cols = df2.loc[:, column].value_counts().index[:]\n",
    "    combinations_all = list(combinations(cols, 2))\n",
    "    for comb in combinations_all:\n",
    "        if ttest_ind(df2.loc[df2.loc[:, column] == comb[0], 'Rating'],\n",
    "                     df2.loc[df2.loc[:, column] == comb[1], 'Rating'], equal_var=False).pvalue \\\n",
    "                <= 0.05/len(combinations_all):  # equal_var=False потому что мы не знаем одинаковая дисперсия или нет\n",
    "            Remained.add(column)\n",
    "            break"
   ]
  },
  {
   "cell_type": "code",
   "execution_count": 74,
   "metadata": {
    "id": "y2DqSqDvMNZt"
   },
   "outputs": [],
   "source": [
    "for column in for_ttest_2_use:\n",
    "    get_stat_dif2(column)"
   ]
  },
  {
   "cell_type": "code",
   "execution_count": 75,
   "metadata": {
    "colab": {
     "base_uri": "https://localhost:8080/",
     "height": 34
    },
    "id": "3klRT2TgRGcc",
    "outputId": "84943c01-4b48-4ef5-e984-cfa6b24f021d"
   },
   "outputs": [
    {
     "data": {
      "text/plain": [
       "1.824737576274795e-09"
      ]
     },
     "execution_count": 75,
     "metadata": {},
     "output_type": "execute_result"
    }
   ],
   "source": [
    "# создадим переменную, содержащую нужный состав колонок\n",
    "Q_ty = set(['Cuisine Style', 'Month', 'Restaurant_qty', 'len_Review_date',\n",
    "            'Population', 'Number of Reviews', 'Ranking', 'Rating'])\n",
    "Model = list(Remained | Q_ty)\n",
    "\n",
    "# и проверим определитель матрицы.\n",
    "A2 = df2[Model].drop('Rating', axis=1).corr()\n",
    "np.linalg.det(A2)  # 1.8247375762749053e-09! далеко не идеально, но уже лучше"
   ]
  },
  {
   "cell_type": "code",
   "execution_count": 76,
   "metadata": {},
   "outputs": [
    {
     "data": {
      "text/plain": [
       "1.0805027210318135e-08"
      ]
     },
     "execution_count": 76,
     "metadata": {},
     "output_type": "execute_result"
    }
   ],
   "source": [
    "# Посмотрим, что еще можно убрать (из категориальных):\n",
    "# опять отбросим явно коррелирующие и количественные признаки\n",
    "a = df2.drop(['Japanese', 'len_Review_date_isNAN', 'Review_date_isNAN', 'Other', 'Cuisine Style_isNAN', 'Cuisine Style',\n",
    "              'Month', 'Restaurant_qty', 'len_Review_date', 'Population', 'Number of Reviews', 'Ranking'], axis=1)\n",
    "\n",
    "# создадим переменную, где будем хранить категориальные признаки, показавшие наименьшую корреляцию с Rating\n",
    "To_throw = set(a.corr(method='spearman')['Rating'].apply(\n",
    "    lambda x: abs(x)).sort_values(ascending=True).index[:22])\n",
    "\n",
    "# сформируем окончательный состав колонок\n",
    "Fin_model = list(set(Model)-To_throw)\n",
    "\n",
    "# и проверим определитель\n",
    "A3 = df2[Fin_model].drop('Rating', axis=1).corr()\n",
    "np.linalg.det(A3)  # 1.0805027210317943e-08, еще лучше"
   ]
  },
  {
   "cell_type": "markdown",
   "metadata": {},
   "source": [
    "### Еще раз вернемся к Ranking\n",
    "-была идея сделать ранговую переменную (код ниже), но это ухудшило модель."
   ]
  },
  {
   "cell_type": "code",
   "execution_count": 77,
   "metadata": {
    "scrolled": false
   },
   "outputs": [
    {
     "data": {
      "text/plain": [
       "(-10.69, 1169.9]      11904\n",
       "(1169.9, 2338.8]       8422\n",
       "(2338.8, 3507.7]       5012\n",
       "(3507.7, 4676.6]       3199\n",
       "(4676.6, 5845.5]       2863\n",
       "(5845.5, 7014.4]       2038\n",
       "(7014.4, 8183.3]       1467\n",
       "(8183.3, 9352.2]       1040\n",
       "(9352.2, 10521.1]       842\n",
       "(10521.1, 11690.0]      763\n",
       "Name: Ranking, dtype: int64"
      ]
     },
     "metadata": {},
     "output_type": "display_data"
    },
    {
     "data": {
      "image/png": "[encoded data removed]",
      "text/plain": [
       "<Figure size 432x288 with 1 Axes>"
      ]
     },
     "metadata": {
      "needs_background": "light"
     },
     "output_type": "display_data"
    }
   ],
   "source": [
    "df2.Ranking.value_counts(bins=10).plot(kind='bar')\n",
    "display(df2.Ranking.value_counts(bins=10))"
   ]
  },
  {
   "cell_type": "code",
   "execution_count": 78,
   "metadata": {},
   "outputs": [],
   "source": [
    "#df2.loc[df2['Ranking'].between(0,1169.9), 'Ranking']=1\n",
    "#df2.loc[df2['Ranking'].between(1169.9, 2338.8), 'Ranking']=2\n",
    "#df2.loc[df2['Ranking'].between(2338.8, 3507.7), 'Ranking']=3\n",
    "#df2.loc[df2['Ranking'].between(3507.7, 4676.6), 'Ranking']=4\n",
    "#df2.loc[df2['Ranking'].between(4676.6, 5845.5), 'Ranking']=5\n",
    "#df2.loc[df2['Ranking'].between(5845.5,7014.4), 'Ranking']=6\n",
    "#df2.loc[df2['Ranking'].between(7014.4, 8183.3), 'Ranking']=7\n",
    "#df2.loc[df2['Ranking'].between(8183.3, 9352.2), 'Ranking']=8\n",
    "#df2.loc[df2['Ranking'].between(9352.2, 10521.1), 'Ranking']=9\n",
    "#df2.loc[df2['Ranking'].between(10521.1, 11690.0), 'Ranking']=10"
   ]
  },
  {
   "cell_type": "markdown",
   "metadata": {
    "id": "knsKvHGd3rH5"
   },
   "source": [
    "### Нормализация числовых признаков"
   ]
  },
  {
   "cell_type": "code",
   "execution_count": 79,
   "metadata": {
    "id": "172AjGVM3rH6"
   },
   "outputs": [],
   "source": [
    "# Присвоим значения\n",
    "MM_scaler = MinMaxScaler()"
   ]
  },
  {
   "cell_type": "markdown",
   "metadata": {
    "id": "eBFKZVMH3rH8"
   },
   "source": [
    "**и еще раз взглянем на графики**"
   ]
  },
  {
   "cell_type": "code",
   "execution_count": 80,
   "metadata": {
    "colab": {
     "base_uri": "https://localhost:8080/",
     "height": 1000
    },
    "id": "wFXqoc5D3rH8",
    "outputId": "3836ff8c-cadf-46f6-af27-18f1b851cd06"
   },
   "outputs": [
    {
     "data": {
      "text/plain": [
       "Text(0.5, 1.0, 'Restaurant_qty')"
      ]
     },
     "execution_count": 80,
     "metadata": {},
     "output_type": "execute_result"
    },
    {
     "data": {
      "image/png": "[encoded data removed]",
      "text/plain": [
       "<Figure size 2160x1800 with 6 Axes>"
      ]
     },
     "metadata": {
      "needs_background": "light"
     },
     "output_type": "display_data"
    }
   ],
   "source": [
    "fig, axes = plt.subplots(2, 3, figsize=(30, 25))\n",
    "axes[0][0].hist(df2['Rating'], bins=9)\n",
    "axes[0][0].set_title('Rating')\n",
    "\n",
    "axes[0][1].hist(df2['Cuisine Style'])\n",
    "axes[0][1].set_title('Cuisine Style')\n",
    "\n",
    "axes[0][2].hist(df2['Ranking'], bins=9)\n",
    "axes[0][2].set_title('Ranking')\n",
    "\n",
    "axes[1][0].hist(df2['Number of Reviews'])\n",
    "axes[1][0].set_title('Number of Reviews')\n",
    "\n",
    "axes[1][1].hist(df2['Population'], bins=5)\n",
    "axes[1][1].set_title('Population')\n",
    "\n",
    "axes[1][2].hist(df2['Restaurant_qty'], bins=5)\n",
    "axes[1][2].set_title('Restaurant_qty')"
   ]
  },
  {
   "cell_type": "code",
   "execution_count": 81,
   "metadata": {
    "id": "dKRiqiyq3rH-"
   },
   "outputs": [],
   "source": [
    "df2['Ranking'] = MM_scaler.fit_transform(df2['Ranking'].values.reshape(-1, 1))"
   ]
  },
  {
   "cell_type": "markdown",
   "metadata": {
    "id": "qVXCsOpC3rIB"
   },
   "source": [
    "- На самом деле нормализация существенного прироста точности **не дала**, вернее правильно сказать фактически не дала\n",
    "- Нормализация и денормализация Y тоже не имела какого-либо результата, только практика\n",
    "- Стоит отметить, что по ощущениям, диапазон МАЕ стал чуть меньше "
   ]
  },
  {
   "cell_type": "code",
   "execution_count": 82,
   "metadata": {
    "colab": {
     "base_uri": "https://localhost:8080/",
     "height": 470
    },
    "id": "3olbV2-g3rIB",
    "outputId": "90b1b562-d033-46a2-8192-b8b827261a0e",
    "scrolled": false
   },
   "outputs": [
    {
     "name": "stdout",
     "output_type": "stream",
     "text": [
      "<class 'pandas.core.frame.DataFrame'>\n",
      "Int64Index: 37550 entries, 0 to 39999\n",
      "Data columns (total 56 columns):\n",
      " #   Column                   Non-Null Count  Dtype  \n",
      "---  ------                   --------------  -----  \n",
      " 0   Number of Reviews_isNAN  37550 non-null  uint8  \n",
      " 1   Vietnamese               37550 non-null  int64  \n",
      " 2   Rating                   37550 non-null  float64\n",
      " 3   Restaurant_Chain         37550 non-null  int64  \n",
      " 4   City_Rome                37550 non-null  uint8  \n",
      " 5   Capital                  37550 non-null  int64  \n",
      " 6   City_Stockholm           37550 non-null  uint8  \n",
      " 7   Fast Food                37550 non-null  int64  \n",
      " 8   City_London              37550 non-null  uint8  \n",
      " 9   Wine Bar                 37550 non-null  int64  \n",
      " 10  City_Athens              37550 non-null  uint8  \n",
      " 11  City_Paris               37550 non-null  uint8  \n",
      " 12  City_Oporto              37550 non-null  uint8  \n",
      " 13  Sushi                    37550 non-null  int64  \n",
      " 14  Portuguese               37550 non-null  int64  \n",
      " 15  Chinese                  37550 non-null  int64  \n",
      " 16  Cafe                     37550 non-null  int64  \n",
      " 17  Indian                   37550 non-null  int64  \n",
      " 18  Healthy                  37550 non-null  int64  \n",
      " 19  Soups                    37550 non-null  int64  \n",
      " 20  City_Lyon                37550 non-null  uint8  \n",
      " 21  len_Review_date          37550 non-null  float64\n",
      " 22  City_Madrid              37550 non-null  uint8  \n",
      " 23  Middle Eastern           37550 non-null  int64  \n",
      " 24  City_Helsinki            37550 non-null  uint8  \n",
      " 25  Pizza                    37550 non-null  int64  \n",
      " 26  City_Berlin              37550 non-null  uint8  \n",
      " 27  Contemporary             37550 non-null  int64  \n",
      " 28  Price Range              37550 non-null  float64\n",
      " 29  City_Krakow              37550 non-null  uint8  \n",
      " 30  French                   37550 non-null  int64  \n",
      " 31  City_Oslo                37550 non-null  uint8  \n",
      " 32  City_Copenhagen          37550 non-null  uint8  \n",
      " 33  Month                    37550 non-null  int64  \n",
      " 34  British                  37550 non-null  int64  \n",
      " 35  Vegetarian Friendly      37550 non-null  int64  \n",
      " 36  City_Barcelona           37550 non-null  uint8  \n",
      " 37  Spanish                  37550 non-null  int64  \n",
      " 38  City_Milan               37550 non-null  uint8  \n",
      " 39  Ranking                  37550 non-null  float64\n",
      " 40  Population               37550 non-null  float64\n",
      " 41  Greek                    37550 non-null  int64  \n",
      " 42  City_Luxembourg          37550 non-null  uint8  \n",
      " 43  City_Brussels            37550 non-null  uint8  \n",
      " 44  International            37550 non-null  int64  \n",
      " 45  Cuisine Style            37550 non-null  int64  \n",
      " 46  American                 37550 non-null  int64  \n",
      " 47  Restaurant_qty           37550 non-null  float64\n",
      " 48  Fusion                   37550 non-null  int64  \n",
      " 49  Bar                      37550 non-null  int64  \n",
      " 50  Mediterranean            37550 non-null  int64  \n",
      " 51  City_Geneva              37550 non-null  uint8  \n",
      " 52  Gluten Free Options      37550 non-null  int64  \n",
      " 53  Price Range_isNAN        37550 non-null  uint8  \n",
      " 54  City_Amsterdam           37550 non-null  uint8  \n",
      " 55  Number of Reviews        37550 non-null  float64\n",
      "dtypes: float64(7), int64(28), uint8(21)\n",
      "memory usage: 11.1 MB\n"
     ]
    }
   ],
   "source": [
    "# Итак, создаём df для моделирования\n",
    "df3 = df2[Fin_model]\n",
    "df3.info()"
   ]
  },
  {
   "cell_type": "markdown",
   "metadata": {
    "id": "Hzw2bKY6ex11"
   },
   "source": [
    "# Разбиваем датафрейм на части, необходимые для обучения и тестирования модели"
   ]
  },
  {
   "cell_type": "code",
   "execution_count": 83,
   "metadata": {
    "id": "9grBcKHtUHp-"
   },
   "outputs": [],
   "source": [
    "# Х - данные с информацией о ресторанах, у - целевая переменная (рейтинги ресторанов)\n",
    "X = df3.drop(['Rating'], axis=1)\n",
    "y = df3['Rating']"
   ]
  },
  {
   "cell_type": "code",
   "execution_count": 84,
   "metadata": {
    "id": "wwkBLDh_UHqA"
   },
   "outputs": [],
   "source": [
    "# Загружаем специальный инструмент для разбивки:\n",
    "from sklearn.model_selection import train_test_split"
   ]
  },
  {
   "cell_type": "code",
   "execution_count": 85,
   "metadata": {
    "id": "txQJr-qcUHqD"
   },
   "outputs": [],
   "source": [
    "# Наборы данных с меткой \"train\" будут использоваться для обучения модели, \"test\" - для тестирования.\n",
    "# Для тестирования мы будем использовать 25% от исходного датасета.\n",
    "X_train, X_test, y_train, y_test = train_test_split(X, y, test_size=0.25)"
   ]
  },
  {
   "cell_type": "markdown",
   "metadata": {
    "id": "F0N-Z6KOUHqF"
   },
   "source": [
    "# Создаём, обучаем и тестируем модель"
   ]
  },
  {
   "cell_type": "code",
   "execution_count": 86,
   "metadata": {
    "id": "lzvBDxs9UHqF"
   },
   "outputs": [],
   "source": [
    "# Импортируем необходимые библиотеки:\n",
    "# инструмент для создания и обучения модели\n",
    "from sklearn.ensemble import RandomForestRegressor\n",
    "from sklearn import metrics  # инструменты для оценки точности модели"
   ]
  },
  {
   "cell_type": "code",
   "execution_count": 112,
   "metadata": {
    "id": "oaWI9wBSUHqH",
    "scrolled": false
   },
   "outputs": [],
   "source": [
    "# Создаём модель\n",
    "regr = RandomForestRegressor(n_estimators=100)\n",
    "\n",
    "# Обучаем модель на тестовом наборе данных\n",
    "regr.fit(X_train, y_train)\n",
    "\n",
    "# Используем обученную модель для предсказания рейтинга ресторанов в тестовой выборке.\n",
    "# Предсказанные значения записываем в переменную y_pred\n",
    "y_pred = regr.predict(X_test)"
   ]
  },
  {
   "cell_type": "code",
   "execution_count": 113,
   "metadata": {},
   "outputs": [],
   "source": [
    "# на Kaggle указано, что y_pred можно округлять. воспользуемся этим\n",
    "def round_all(rating):\n",
    "    return np.round(rating * 2) / 2\n",
    "\n",
    "\n",
    "y_pred_new = round_all(y_pred.copy())"
   ]
  },
  {
   "cell_type": "code",
   "execution_count": 114,
   "metadata": {
    "colab": {
     "base_uri": "https://localhost:8080/",
     "height": 34
    },
    "id": "W_O-UWs7UHqJ",
    "outputId": "67aff98a-0808-4f72-892f-01e404588ec0"
   },
   "outputs": [
    {
     "name": "stdout",
     "output_type": "stream",
     "text": [
      "MAE: 0.20554271410311034 0.1776203664252237\n"
     ]
    }
   ],
   "source": [
    "# Сравниваем предсказанные значения (y_pred) с реальными (y_test), и смотрим насколько они в среднем отличаются\n",
    "# Метрика называется Mean Absolute Error (MAE) и показывает среднее отклонение предсказанных значений от фактических.\n",
    "print('MAE:', metrics.mean_absolute_error(y_test, y_pred),\n",
    "      metrics.mean_absolute_error(y_test, y_pred_new))"
   ]
  },
  {
   "cell_type": "code",
   "execution_count": 89,
   "metadata": {
    "colab": {
     "base_uri": "https://localhost:8080/",
     "height": 609
    },
    "id": "_v7uQcbiuU03",
    "outputId": "5ed5dc54-1ca0-4bfa-abe8-9af0b879f8aa",
    "scrolled": false
   },
   "outputs": [
    {
     "data": {
      "text/plain": [
       "<matplotlib.axes._subplots.AxesSubplot at 0x2356a2eac88>"
      ]
     },
     "execution_count": 89,
     "metadata": {},
     "output_type": "execute_result"
    },
    {
     "data": {
      "image/png": "[encoded data removed]",
      "text/plain": [
       "<Figure size 1440x1440 with 1 Axes>"
      ]
     },
     "metadata": {
      "needs_background": "light"
     },
     "output_type": "display_data"
    }
   ],
   "source": [
    "# в RandomForestRegressor есть возможность вывести самые важные признаки для модели\n",
    "plt.rcParams['figure.figsize'] = (20, 20)\n",
    "feat_importances = pd.Series(regr.feature_importances_, index=X.columns)\n",
    "feat_importances.nlargest(30).plot(kind='barh')"
   ]
  },
  {
   "cell_type": "markdown",
   "metadata": {
    "id": "s-7we-QF3rIM"
   },
   "source": [
    "# Выводы\n",
    "1. Удалось добиться двухкратного (почти) увеличения точности модели. Стабильно показывает 0.202-0.207. С округлением примерно 0.17. Вероятно в kaggle из-за размера выборки результат все таки ухудшится\n",
    "2. Модель зависима от Ranking больше всего. С этим надо работать\n",
    "3. Из последних идей Поработать  с Reviews- поискать по словам \"плохо\", \"хорошо\" и производным, чтобы создать из этого признак"
   ]
  }
 ],
 "metadata": {
  "colab": {
   "collapsed_sections": [],
   "name": "Копия блокнота \"module_3_OrlovAA_experimental.ipynb\"",
   "provenance": []
  },
  "kernelspec": {
   "display_name": "Python 3",
   "language": "python",
   "name": "python3"
  },
  "language_info": {
   "codemirror_mode": {
    "name": "ipython",
    "version": 3
   },
   "file_extension": ".py",
   "mimetype": "text/x-python",
   "name": "python",
   "nbconvert_exporter": "python",
   "pygments_lexer": "ipython3",
   "version": "3.7.6"
  }
 },
 "nbformat": 4,
 "nbformat_minor": 1
}
