{
 "cells": [
  {
   "cell_type": "code",
   "execution_count": 1,
   "metadata": {},
   "outputs": [],
   "source": [
    "import numpy as np\n",
    "\n",
    "def game_core_v3(number):\n",
    "    '''Сначала проверяем больше или меньше число в два раза, чем загаданное (Если это чит, есть другое решение),\n",
    "        увеличиваем или уменьшаем его в два раза. Далее просто проверяем, больше оно или меньше загаданного,\n",
    "        и уменьшаем или увеличиваем его по заданным условиям'''\n",
    "    count = 1\n",
    "    predict = np.random.randint(1,101)\n",
    "    while number != predict:\n",
    "        count += 1\n",
    "        if number > predict*2:\n",
    "            predict += predict*2\n",
    "        elif number < predict//2: # //2, чтобы не было дробных чисел\n",
    "            predict -= predict//2 - 1 #Чтобы не уходить в бесконечный цикл\n",
    "            \n",
    "        elif number > predict: \n",
    "            predict += 4\n",
    "            if number > predict:\n",
    "                predict += 2\n",
    "            elif number < predict:\n",
    "                predict -= 1\n",
    "                        \n",
    "        elif number < predict:\n",
    "            predict -= 3\n",
    "            if number < predict:\n",
    "                predict -= 2\n",
    "            elif number > predict:\n",
    "                predict += 1\n",
    "                \n",
    "    return(count) # выход из цикла, если угадали\n",
    "\n",
    "\n",
    "def score_game(game_core):\n",
    "    '''Запускаем игру 1000 раз, чтобы узнать, как быстро игра угадывает число'''\n",
    "    count_ls = []\n",
    "    np.random.seed(1)  # фиксируем RANDOM SEED, чтобы ваш эксперимент был воспроизводим!\n",
    "    random_array = np.random.randint(1,101, size=(1000))\n",
    "    for number in random_array:\n",
    "        count_ls.append(game_core(number))\n",
    "    score = int(np.mean(count_ls))\n",
    "    print(f\"Ваш алгоритм угадывает число в среднем за {score} попыток\")\n",
    "    \n",
    "    return(score)"
   ]
  },
  {
   "cell_type": "code",
   "execution_count": 4,
   "metadata": {},
   "outputs": [
    {
     "name": "stdout",
     "output_type": "stream",
     "text": [
      "Ваш алгоритм угадывает число в среднем за 5 попыток\n"
     ]
    },
    {
     "data": {
      "text/plain": [
       "5"
      ]
     },
     "execution_count": 4,
     "metadata": {},
     "output_type": "execute_result"
    }
   ],
   "source": [
    "score_game(game_core_v3)"
   ]
  }
 ],
 "metadata": {
  "kernelspec": {
   "display_name": "Python 3",
   "language": "python",
   "name": "python3"
  },
  "language_info": {
   "codemirror_mode": {
    "name": "ipython",
    "version": 3
   },
   "file_extension": ".py",
   "mimetype": "text/x-python",
   "name": "python",
   "nbconvert_exporter": "python",
   "pygments_lexer": "ipython3",
   "version": "3.7.6"
  }
 },
 "nbformat": 4,
 "nbformat_minor": 4
}
